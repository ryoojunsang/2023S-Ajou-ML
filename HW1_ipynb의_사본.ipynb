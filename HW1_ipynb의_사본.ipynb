{
  "cells": [
    {
      "cell_type": "markdown",
      "metadata": {
        "id": "view-in-github",
        "colab_type": "text"
      },
      "source": [
        "<a href=\"https://colab.research.google.com/github/ryoojunsang/2023S-Ajou-ML/blob/main/HW1_ipynb%EC%9D%98_%EC%82%AC%EB%B3%B8.ipynb\" target=\"_parent\"><img src=\"https://colab.research.google.com/assets/colab-badge.svg\" alt=\"Open In Colab\"/></a>"
      ]
    },
    {
      "cell_type": "markdown",
      "source": [
        "# HW1 :: Exploratory Data Analysis (EDA)"
      ],
      "metadata": {
        "id": "_vscAqiXMEgX"
      }
    },
    {
      "cell_type": "markdown",
      "source": [
        "## 과제 목표\n",
        "-\t데이터의 형식에 대해서 이해하고 이를 변환할 수 있다. \n",
        "  -\t특히, numpy 와 pandas 라이브러리에 기반한 데이터 처리를 할 수 있다. \n",
        "-\t결측값, 중복값, 이상치를 처리하고 다양한 시각화를 할 수 있다.\n",
        "-\t기본적인 Exploratory Data Analysis를 수행할 수 있다. \n",
        "-\t데이터는 동봉된 train.csv을 이용한다. \n"
      ],
      "metadata": {
        "id": "9rhE6YmbQZ9G"
      }
    },
    {
      "cell_type": "markdown",
      "source": [
        "## 코랩과 구글 드라이브 연동하기"
      ],
      "metadata": {
        "id": "-_WymqIfMTsd"
      }
    },
    {
      "cell_type": "code",
      "source": [
        "from google.colab import drive\n",
        "drive.mount('/content/drive')"
      ],
      "metadata": {
        "id": "48p73pSOYiyn",
        "colab": {
          "base_uri": "https://localhost:8080/"
        },
        "outputId": "7b606af8-d29d-4f0a-871d-b1e9f1313b66"
      },
      "execution_count": null,
      "outputs": [
        {
          "output_type": "stream",
          "name": "stdout",
          "text": [
            "Mounted at /content/drive\n"
          ]
        }
      ]
    },
    {
      "cell_type": "code",
      "source": [
        "# pwd 명령어로 현재 위치 확인\n",
        "!pwd"
      ],
      "metadata": {
        "id": "MGWUpVCuMSxU",
        "colab": {
          "base_uri": "https://localhost:8080/"
        },
        "outputId": "aa130bbe-4652-425c-f59f-06c061a8338b"
      },
      "execution_count": null,
      "outputs": [
        {
          "output_type": "stream",
          "name": "stdout",
          "text": [
            "/content\n"
          ]
        }
      ]
    },
    {
      "cell_type": "code",
      "source": [
        "!ls # 현재 위치에 있는 디렉토리와 파일 목록 확인"
      ],
      "metadata": {
        "id": "zCJor27DMY3z",
        "colab": {
          "base_uri": "https://localhost:8080/"
        },
        "outputId": "97ec3967-65b8-425f-8d45-0ed75fa27db0"
      },
      "execution_count": null,
      "outputs": [
        {
          "output_type": "stream",
          "name": "stdout",
          "text": [
            "drive  sample_data\n"
          ]
        }
      ]
    },
    {
      "cell_type": "code",
      "source": [
        "cd /content/drive/MyDrive/MACHINE/HW1"
      ],
      "metadata": {
        "id": "kjD9DAY4Ymlx",
        "colab": {
          "base_uri": "https://localhost:8080/"
        },
        "outputId": "48c0250a-61e0-4539-aa78-2f0c76a0a7ca"
      },
      "execution_count": null,
      "outputs": [
        {
          "output_type": "stream",
          "name": "stdout",
          "text": [
            "/content/drive/MyDrive/MACHINE/HW1\n"
          ]
        }
      ]
    },
    {
      "cell_type": "markdown",
      "source": [
        "## 데이터 불러오기 & 살펴보기"
      ],
      "metadata": {
        "id": "MxBJDYqwVZI0"
      }
    },
    {
      "cell_type": "markdown",
      "metadata": {
        "id": "0dDszicIVXwh"
      },
      "source": [
        "※본 과제는 [Loan Default prediction dataset] 데이터에 기반하여 출제 되었습니다.\n",
        "\n",
        "(https://www.kaggle.com/datasets/hemanthsai7/loandefault)\n",
        "\n"
      ]
    },
    {
      "cell_type": "markdown",
      "source": [
        "이 데이터는 자금 지원액, 잔액, 대출금 등 다양한 개인의 속성을 살펴, 대출 연체자가 될 지 예측하는 문제에 활용될 수 있습니다.  \n",
        "원래의 자료에서는 Train과 Test Dataset으로 나뉘어, 총 35개의 column과 96,000여개의 observation으로 구성되어 있습니다.   \n",
        "이번 과제에서는 Train data만을 사용하여 EDA를 해봅시다. "
      ],
      "metadata": {
        "id": "DhXCfkGAJn_t"
      }
    },
    {
      "cell_type": "markdown",
      "source": [
        "※ 데이터에 대한 자세한 설명은 HW1 word 파일을 확인해주세요"
      ],
      "metadata": {
        "id": "QdtaWx0WM6qJ"
      }
    },
    {
      "cell_type": "code",
      "source": [
        "# 이번 과제는 numpy, pandas와 같은 데이터를 불러내고 확인, 처리, \n",
        "# 수정 등을 쉽게 할 수 있는 library를 사용합니다.\n",
        "# 그래프를 그릴 때에는 matplotlib, seaborn library를 사용합니다.\n",
        "\n",
        "# 모듈 이름 뒤에 as를 쓰고 별칭을 적으면 해당 별칭으로 모듈을 호출할 수 있습니다.\n",
        "# 모듈명: numpy, 별칭: np => numpy를 쓰는 대신 np를 써서 numpy 호출\n",
        "# 모듈명: pandas, 별칭: pd => pandas를 쓰는 대신 pd를 써서 pandas 호출\n",
        "import numpy as np\n",
        "import pandas as pd\n",
        "import matplotlib.pyplot as plt\n",
        "import seaborn as sns"
      ],
      "metadata": {
        "id": "0YqqOdFuM_EV"
      },
      "execution_count": null,
      "outputs": []
    },
    {
      "cell_type": "code",
      "source": [
        "# './'는 이 노트북 파일의 현재 위치를 뜻 합니다.\n",
        "path = './train.csv'\n",
        "\n",
        "# pandas의 read_csv 함수를 사용하여 csv파일을 DataFrame으로 불러옵니다.\n",
        "data = pd.read_csv(path)"
      ],
      "metadata": {
        "id": "CJ0nEgMwNN4R"
      },
      "execution_count": null,
      "outputs": []
    },
    {
      "cell_type": "code",
      "source": [
        "# DataFrame 혹은 Series와 같은 자료구조에 shape함수를 통해 데이터의 크기와 \n",
        "# 변수의 갯수를 대략적으로 알 수 있습니다.\n",
        "\n",
        "data.shape # (67463, 35) => 67463 개의 row(행), 35 개의 column(열)을 가진 데이터"
      ],
      "metadata": {
        "id": "yg7kPjk1NTWq",
        "colab": {
          "base_uri": "https://localhost:8080/"
        },
        "outputId": "26be29ca-01e9-4907-8dce-ab5e57fd93af"
      },
      "execution_count": null,
      "outputs": [
        {
          "output_type": "execute_result",
          "data": {
            "text/plain": [
              "(67463, 35)"
            ]
          },
          "metadata": {},
          "execution_count": 10
        }
      ]
    },
    {
      "cell_type": "code",
      "source": [
        "# head() 함수를 이용하여 해당 데이터의 맨 위 5개의 원소를 볼 수 있습니다.\n",
        "# 더 많은 행을 보고 싶다면 ()안에 숫자를 넣어주시면 됩니다.\n",
        "\n",
        "data.head()"
      ],
      "metadata": {
        "id": "B2fIJfCfOGQd",
        "colab": {
          "base_uri": "https://localhost:8080/",
          "height": 352
        },
        "outputId": "75c31ce3-bcf0-4794-e98c-b0d3463932c7"
      },
      "execution_count": null,
      "outputs": [
        {
          "output_type": "execute_result",
          "data": {
            "text/plain": [
              "         ID  Loan Amount  Funded Amount  Funded Amount Investor  Term  \\\n",
              "0  65087372        10000          32236             12329.36286    59   \n",
              "1   1450153         3609          11940             12191.99692    59   \n",
              "2   1969101        28276           9311             21603.22455    59   \n",
              "3   6651430        11170           6954             17877.15585    59   \n",
              "4  14354669        16890          13226             13539.92667    59   \n",
              "\n",
              "  Batch Enrolled  Interest Rate Grade Sub Grade Employment Duration  ...  \\\n",
              "0     BAT2522922      11.135007     B        C4            MORTGAGE  ...   \n",
              "1     BAT1586599      12.237563     C        D3                RENT  ...   \n",
              "2     BAT2136391      12.545884     F        D4            MORTGAGE  ...   \n",
              "3     BAT2428731      16.731201     C        C3            MORTGAGE  ...   \n",
              "4     BAT5341619      15.008300     C        D4            MORTGAGE  ...   \n",
              "\n",
              "    Recoveries Collection Recovery Fee Collection 12 months Medical  \\\n",
              "0     2.498291                0.793724                            0   \n",
              "1     2.377215                0.974821                            0   \n",
              "2     4.316277                1.020075                            0   \n",
              "3     0.107020                0.749971                            0   \n",
              "4  1294.818751                0.368953                            0   \n",
              "\n",
              "  Application Type  Last week Pay  Accounts Delinquent  \\\n",
              "0       INDIVIDUAL             49                    0   \n",
              "1       INDIVIDUAL            109                    0   \n",
              "2       INDIVIDUAL             66                    0   \n",
              "3       INDIVIDUAL             39                    0   \n",
              "4       INDIVIDUAL             18                    0   \n",
              "\n",
              "   Total Collection Amount  Total Current Balance  \\\n",
              "0                       31                 311301   \n",
              "1                       53                 182610   \n",
              "2                       34                  89801   \n",
              "3                       40                   9189   \n",
              "4                      430                 126029   \n",
              "\n",
              "   Total Revolving Credit Limit  Loan Status  \n",
              "0                          6619            0  \n",
              "1                         20885            0  \n",
              "2                         26155            0  \n",
              "3                         60214            0  \n",
              "4                         22579            0  \n",
              "\n",
              "[5 rows x 35 columns]"
            ],
            "text/html": [
              "\n",
              "  <div id=\"df-96c2d2cf-b755-42f1-8caa-3a195b805c48\">\n",
              "    <div class=\"colab-df-container\">\n",
              "      <div>\n",
              "<style scoped>\n",
              "    .dataframe tbody tr th:only-of-type {\n",
              "        vertical-align: middle;\n",
              "    }\n",
              "\n",
              "    .dataframe tbody tr th {\n",
              "        vertical-align: top;\n",
              "    }\n",
              "\n",
              "    .dataframe thead th {\n",
              "        text-align: right;\n",
              "    }\n",
              "</style>\n",
              "<table border=\"1\" class=\"dataframe\">\n",
              "  <thead>\n",
              "    <tr style=\"text-align: right;\">\n",
              "      <th></th>\n",
              "      <th>ID</th>\n",
              "      <th>Loan Amount</th>\n",
              "      <th>Funded Amount</th>\n",
              "      <th>Funded Amount Investor</th>\n",
              "      <th>Term</th>\n",
              "      <th>Batch Enrolled</th>\n",
              "      <th>Interest Rate</th>\n",
              "      <th>Grade</th>\n",
              "      <th>Sub Grade</th>\n",
              "      <th>Employment Duration</th>\n",
              "      <th>...</th>\n",
              "      <th>Recoveries</th>\n",
              "      <th>Collection Recovery Fee</th>\n",
              "      <th>Collection 12 months Medical</th>\n",
              "      <th>Application Type</th>\n",
              "      <th>Last week Pay</th>\n",
              "      <th>Accounts Delinquent</th>\n",
              "      <th>Total Collection Amount</th>\n",
              "      <th>Total Current Balance</th>\n",
              "      <th>Total Revolving Credit Limit</th>\n",
              "      <th>Loan Status</th>\n",
              "    </tr>\n",
              "  </thead>\n",
              "  <tbody>\n",
              "    <tr>\n",
              "      <th>0</th>\n",
              "      <td>65087372</td>\n",
              "      <td>10000</td>\n",
              "      <td>32236</td>\n",
              "      <td>12329.36286</td>\n",
              "      <td>59</td>\n",
              "      <td>BAT2522922</td>\n",
              "      <td>11.135007</td>\n",
              "      <td>B</td>\n",
              "      <td>C4</td>\n",
              "      <td>MORTGAGE</td>\n",
              "      <td>...</td>\n",
              "      <td>2.498291</td>\n",
              "      <td>0.793724</td>\n",
              "      <td>0</td>\n",
              "      <td>INDIVIDUAL</td>\n",
              "      <td>49</td>\n",
              "      <td>0</td>\n",
              "      <td>31</td>\n",
              "      <td>311301</td>\n",
              "      <td>6619</td>\n",
              "      <td>0</td>\n",
              "    </tr>\n",
              "    <tr>\n",
              "      <th>1</th>\n",
              "      <td>1450153</td>\n",
              "      <td>3609</td>\n",
              "      <td>11940</td>\n",
              "      <td>12191.99692</td>\n",
              "      <td>59</td>\n",
              "      <td>BAT1586599</td>\n",
              "      <td>12.237563</td>\n",
              "      <td>C</td>\n",
              "      <td>D3</td>\n",
              "      <td>RENT</td>\n",
              "      <td>...</td>\n",
              "      <td>2.377215</td>\n",
              "      <td>0.974821</td>\n",
              "      <td>0</td>\n",
              "      <td>INDIVIDUAL</td>\n",
              "      <td>109</td>\n",
              "      <td>0</td>\n",
              "      <td>53</td>\n",
              "      <td>182610</td>\n",
              "      <td>20885</td>\n",
              "      <td>0</td>\n",
              "    </tr>\n",
              "    <tr>\n",
              "      <th>2</th>\n",
              "      <td>1969101</td>\n",
              "      <td>28276</td>\n",
              "      <td>9311</td>\n",
              "      <td>21603.22455</td>\n",
              "      <td>59</td>\n",
              "      <td>BAT2136391</td>\n",
              "      <td>12.545884</td>\n",
              "      <td>F</td>\n",
              "      <td>D4</td>\n",
              "      <td>MORTGAGE</td>\n",
              "      <td>...</td>\n",
              "      <td>4.316277</td>\n",
              "      <td>1.020075</td>\n",
              "      <td>0</td>\n",
              "      <td>INDIVIDUAL</td>\n",
              "      <td>66</td>\n",
              "      <td>0</td>\n",
              "      <td>34</td>\n",
              "      <td>89801</td>\n",
              "      <td>26155</td>\n",
              "      <td>0</td>\n",
              "    </tr>\n",
              "    <tr>\n",
              "      <th>3</th>\n",
              "      <td>6651430</td>\n",
              "      <td>11170</td>\n",
              "      <td>6954</td>\n",
              "      <td>17877.15585</td>\n",
              "      <td>59</td>\n",
              "      <td>BAT2428731</td>\n",
              "      <td>16.731201</td>\n",
              "      <td>C</td>\n",
              "      <td>C3</td>\n",
              "      <td>MORTGAGE</td>\n",
              "      <td>...</td>\n",
              "      <td>0.107020</td>\n",
              "      <td>0.749971</td>\n",
              "      <td>0</td>\n",
              "      <td>INDIVIDUAL</td>\n",
              "      <td>39</td>\n",
              "      <td>0</td>\n",
              "      <td>40</td>\n",
              "      <td>9189</td>\n",
              "      <td>60214</td>\n",
              "      <td>0</td>\n",
              "    </tr>\n",
              "    <tr>\n",
              "      <th>4</th>\n",
              "      <td>14354669</td>\n",
              "      <td>16890</td>\n",
              "      <td>13226</td>\n",
              "      <td>13539.92667</td>\n",
              "      <td>59</td>\n",
              "      <td>BAT5341619</td>\n",
              "      <td>15.008300</td>\n",
              "      <td>C</td>\n",
              "      <td>D4</td>\n",
              "      <td>MORTGAGE</td>\n",
              "      <td>...</td>\n",
              "      <td>1294.818751</td>\n",
              "      <td>0.368953</td>\n",
              "      <td>0</td>\n",
              "      <td>INDIVIDUAL</td>\n",
              "      <td>18</td>\n",
              "      <td>0</td>\n",
              "      <td>430</td>\n",
              "      <td>126029</td>\n",
              "      <td>22579</td>\n",
              "      <td>0</td>\n",
              "    </tr>\n",
              "  </tbody>\n",
              "</table>\n",
              "<p>5 rows × 35 columns</p>\n",
              "</div>\n",
              "      <button class=\"colab-df-convert\" onclick=\"convertToInteractive('df-96c2d2cf-b755-42f1-8caa-3a195b805c48')\"\n",
              "              title=\"Convert this dataframe to an interactive table.\"\n",
              "              style=\"display:none;\">\n",
              "        \n",
              "  <svg xmlns=\"http://www.w3.org/2000/svg\" height=\"24px\"viewBox=\"0 0 24 24\"\n",
              "       width=\"24px\">\n",
              "    <path d=\"M0 0h24v24H0V0z\" fill=\"none\"/>\n",
              "    <path d=\"M18.56 5.44l.94 2.06.94-2.06 2.06-.94-2.06-.94-.94-2.06-.94 2.06-2.06.94zm-11 1L8.5 8.5l.94-2.06 2.06-.94-2.06-.94L8.5 2.5l-.94 2.06-2.06.94zm10 10l.94 2.06.94-2.06 2.06-.94-2.06-.94-.94-2.06-.94 2.06-2.06.94z\"/><path d=\"M17.41 7.96l-1.37-1.37c-.4-.4-.92-.59-1.43-.59-.52 0-1.04.2-1.43.59L10.3 9.45l-7.72 7.72c-.78.78-.78 2.05 0 2.83L4 21.41c.39.39.9.59 1.41.59.51 0 1.02-.2 1.41-.59l7.78-7.78 2.81-2.81c.8-.78.8-2.07 0-2.86zM5.41 20L4 18.59l7.72-7.72 1.47 1.35L5.41 20z\"/>\n",
              "  </svg>\n",
              "      </button>\n",
              "      \n",
              "  <style>\n",
              "    .colab-df-container {\n",
              "      display:flex;\n",
              "      flex-wrap:wrap;\n",
              "      gap: 12px;\n",
              "    }\n",
              "\n",
              "    .colab-df-convert {\n",
              "      background-color: #E8F0FE;\n",
              "      border: none;\n",
              "      border-radius: 50%;\n",
              "      cursor: pointer;\n",
              "      display: none;\n",
              "      fill: #1967D2;\n",
              "      height: 32px;\n",
              "      padding: 0 0 0 0;\n",
              "      width: 32px;\n",
              "    }\n",
              "\n",
              "    .colab-df-convert:hover {\n",
              "      background-color: #E2EBFA;\n",
              "      box-shadow: 0px 1px 2px rgba(60, 64, 67, 0.3), 0px 1px 3px 1px rgba(60, 64, 67, 0.15);\n",
              "      fill: #174EA6;\n",
              "    }\n",
              "\n",
              "    [theme=dark] .colab-df-convert {\n",
              "      background-color: #3B4455;\n",
              "      fill: #D2E3FC;\n",
              "    }\n",
              "\n",
              "    [theme=dark] .colab-df-convert:hover {\n",
              "      background-color: #434B5C;\n",
              "      box-shadow: 0px 1px 3px 1px rgba(0, 0, 0, 0.15);\n",
              "      filter: drop-shadow(0px 1px 2px rgba(0, 0, 0, 0.3));\n",
              "      fill: #FFFFFF;\n",
              "    }\n",
              "  </style>\n",
              "\n",
              "      <script>\n",
              "        const buttonEl =\n",
              "          document.querySelector('#df-96c2d2cf-b755-42f1-8caa-3a195b805c48 button.colab-df-convert');\n",
              "        buttonEl.style.display =\n",
              "          google.colab.kernel.accessAllowed ? 'block' : 'none';\n",
              "\n",
              "        async function convertToInteractive(key) {\n",
              "          const element = document.querySelector('#df-96c2d2cf-b755-42f1-8caa-3a195b805c48');\n",
              "          const dataTable =\n",
              "            await google.colab.kernel.invokeFunction('convertToInteractive',\n",
              "                                                     [key], {});\n",
              "          if (!dataTable) return;\n",
              "\n",
              "          const docLinkHtml = 'Like what you see? Visit the ' +\n",
              "            '<a target=\"_blank\" href=https://colab.research.google.com/notebooks/data_table.ipynb>data table notebook</a>'\n",
              "            + ' to learn more about interactive tables.';\n",
              "          element.innerHTML = '';\n",
              "          dataTable['output_type'] = 'display_data';\n",
              "          await google.colab.output.renderOutput(dataTable, element);\n",
              "          const docLink = document.createElement('div');\n",
              "          docLink.innerHTML = docLinkHtml;\n",
              "          element.appendChild(docLink);\n",
              "        }\n",
              "      </script>\n",
              "    </div>\n",
              "  </div>\n",
              "  "
            ]
          },
          "metadata": {},
          "execution_count": 11
        }
      ]
    },
    {
      "cell_type": "code",
      "source": [
        "# tail() 함수를 이용하여 해당 데이터의 맨 뒤 5개의 원소를 볼 수 있습니다.\n",
        "# 더 많은 행을 보고 싶다면 ()안에 숫자를 넣어주시면 됩니다.\n",
        "\n",
        "data.tail()"
      ],
      "metadata": {
        "id": "4FdL-RvCOI5H",
        "colab": {
          "base_uri": "https://localhost:8080/",
          "height": 352
        },
        "outputId": "3513ecc9-1a75-4b1e-c0f0-b4345b05fbf5"
      },
      "execution_count": null,
      "outputs": [
        {
          "output_type": "execute_result",
          "data": {
            "text/plain": [
              "             ID  Loan Amount  Funded Amount  Funded Amount Investor  Term  \\\n",
              "67458  16164945        13601           6848             13175.28583    59   \n",
              "67459  35182714         8323          11046             15637.46301    59   \n",
              "67460  16435904        15897          32921             12329.45775    59   \n",
              "67461   5300325        16567           4975             21353.68465    59   \n",
              "67462  65443173        15353          29875             14207.44860    59   \n",
              "\n",
              "      Batch Enrolled  Interest Rate Grade Sub Grade Employment Duration  ...  \\\n",
              "67458     BAT3193689       9.408858     C        A4            MORTGAGE  ...   \n",
              "67459     BAT1780517       9.972104     C        B3                RENT  ...   \n",
              "67460     BAT1761981      19.650943     A        F3            MORTGAGE  ...   \n",
              "67461     BAT2333412      13.169095     D        E3                 OWN  ...   \n",
              "67462     BAT1930365      16.034631     B        D1            MORTGAGE  ...   \n",
              "\n",
              "       Recoveries Collection Recovery Fee Collection 12 months Medical  \\\n",
              "67458  564.614852                0.865230                            0   \n",
              "67459    2.015494                1.403368                            0   \n",
              "67460    5.673092                1.607093                            0   \n",
              "67461    1.157454                0.207608                            0   \n",
              "67462    1.856480                0.366386                            0   \n",
              "\n",
              "      Application Type  Last week Pay  Accounts Delinquent  \\\n",
              "67458       INDIVIDUAL             69                    0   \n",
              "67459       INDIVIDUAL             14                    0   \n",
              "67460       INDIVIDUAL            137                    0   \n",
              "67461       INDIVIDUAL             73                    0   \n",
              "67462       INDIVIDUAL             54                    0   \n",
              "\n",
              "       Total Collection Amount  Total Current Balance  \\\n",
              "67458                       48                 181775   \n",
              "67459                       37                  22692   \n",
              "67460                       17                 176857   \n",
              "67461                       61                 361339   \n",
              "67462                       47                 196960   \n",
              "\n",
              "       Total Revolving Credit Limit  Loan Status  \n",
              "67458                         34301            1  \n",
              "67459                          8714            0  \n",
              "67460                         42330            0  \n",
              "67461                         39075            0  \n",
              "67462                         66060            0  \n",
              "\n",
              "[5 rows x 35 columns]"
            ],
            "text/html": [
              "\n",
              "  <div id=\"df-58626940-1b18-443d-8139-cab29b210d87\">\n",
              "    <div class=\"colab-df-container\">\n",
              "      <div>\n",
              "<style scoped>\n",
              "    .dataframe tbody tr th:only-of-type {\n",
              "        vertical-align: middle;\n",
              "    }\n",
              "\n",
              "    .dataframe tbody tr th {\n",
              "        vertical-align: top;\n",
              "    }\n",
              "\n",
              "    .dataframe thead th {\n",
              "        text-align: right;\n",
              "    }\n",
              "</style>\n",
              "<table border=\"1\" class=\"dataframe\">\n",
              "  <thead>\n",
              "    <tr style=\"text-align: right;\">\n",
              "      <th></th>\n",
              "      <th>ID</th>\n",
              "      <th>Loan Amount</th>\n",
              "      <th>Funded Amount</th>\n",
              "      <th>Funded Amount Investor</th>\n",
              "      <th>Term</th>\n",
              "      <th>Batch Enrolled</th>\n",
              "      <th>Interest Rate</th>\n",
              "      <th>Grade</th>\n",
              "      <th>Sub Grade</th>\n",
              "      <th>Employment Duration</th>\n",
              "      <th>...</th>\n",
              "      <th>Recoveries</th>\n",
              "      <th>Collection Recovery Fee</th>\n",
              "      <th>Collection 12 months Medical</th>\n",
              "      <th>Application Type</th>\n",
              "      <th>Last week Pay</th>\n",
              "      <th>Accounts Delinquent</th>\n",
              "      <th>Total Collection Amount</th>\n",
              "      <th>Total Current Balance</th>\n",
              "      <th>Total Revolving Credit Limit</th>\n",
              "      <th>Loan Status</th>\n",
              "    </tr>\n",
              "  </thead>\n",
              "  <tbody>\n",
              "    <tr>\n",
              "      <th>67458</th>\n",
              "      <td>16164945</td>\n",
              "      <td>13601</td>\n",
              "      <td>6848</td>\n",
              "      <td>13175.28583</td>\n",
              "      <td>59</td>\n",
              "      <td>BAT3193689</td>\n",
              "      <td>9.408858</td>\n",
              "      <td>C</td>\n",
              "      <td>A4</td>\n",
              "      <td>MORTGAGE</td>\n",
              "      <td>...</td>\n",
              "      <td>564.614852</td>\n",
              "      <td>0.865230</td>\n",
              "      <td>0</td>\n",
              "      <td>INDIVIDUAL</td>\n",
              "      <td>69</td>\n",
              "      <td>0</td>\n",
              "      <td>48</td>\n",
              "      <td>181775</td>\n",
              "      <td>34301</td>\n",
              "      <td>1</td>\n",
              "    </tr>\n",
              "    <tr>\n",
              "      <th>67459</th>\n",
              "      <td>35182714</td>\n",
              "      <td>8323</td>\n",
              "      <td>11046</td>\n",
              "      <td>15637.46301</td>\n",
              "      <td>59</td>\n",
              "      <td>BAT1780517</td>\n",
              "      <td>9.972104</td>\n",
              "      <td>C</td>\n",
              "      <td>B3</td>\n",
              "      <td>RENT</td>\n",
              "      <td>...</td>\n",
              "      <td>2.015494</td>\n",
              "      <td>1.403368</td>\n",
              "      <td>0</td>\n",
              "      <td>INDIVIDUAL</td>\n",
              "      <td>14</td>\n",
              "      <td>0</td>\n",
              "      <td>37</td>\n",
              "      <td>22692</td>\n",
              "      <td>8714</td>\n",
              "      <td>0</td>\n",
              "    </tr>\n",
              "    <tr>\n",
              "      <th>67460</th>\n",
              "      <td>16435904</td>\n",
              "      <td>15897</td>\n",
              "      <td>32921</td>\n",
              "      <td>12329.45775</td>\n",
              "      <td>59</td>\n",
              "      <td>BAT1761981</td>\n",
              "      <td>19.650943</td>\n",
              "      <td>A</td>\n",
              "      <td>F3</td>\n",
              "      <td>MORTGAGE</td>\n",
              "      <td>...</td>\n",
              "      <td>5.673092</td>\n",
              "      <td>1.607093</td>\n",
              "      <td>0</td>\n",
              "      <td>INDIVIDUAL</td>\n",
              "      <td>137</td>\n",
              "      <td>0</td>\n",
              "      <td>17</td>\n",
              "      <td>176857</td>\n",
              "      <td>42330</td>\n",
              "      <td>0</td>\n",
              "    </tr>\n",
              "    <tr>\n",
              "      <th>67461</th>\n",
              "      <td>5300325</td>\n",
              "      <td>16567</td>\n",
              "      <td>4975</td>\n",
              "      <td>21353.68465</td>\n",
              "      <td>59</td>\n",
              "      <td>BAT2333412</td>\n",
              "      <td>13.169095</td>\n",
              "      <td>D</td>\n",
              "      <td>E3</td>\n",
              "      <td>OWN</td>\n",
              "      <td>...</td>\n",
              "      <td>1.157454</td>\n",
              "      <td>0.207608</td>\n",
              "      <td>0</td>\n",
              "      <td>INDIVIDUAL</td>\n",
              "      <td>73</td>\n",
              "      <td>0</td>\n",
              "      <td>61</td>\n",
              "      <td>361339</td>\n",
              "      <td>39075</td>\n",
              "      <td>0</td>\n",
              "    </tr>\n",
              "    <tr>\n",
              "      <th>67462</th>\n",
              "      <td>65443173</td>\n",
              "      <td>15353</td>\n",
              "      <td>29875</td>\n",
              "      <td>14207.44860</td>\n",
              "      <td>59</td>\n",
              "      <td>BAT1930365</td>\n",
              "      <td>16.034631</td>\n",
              "      <td>B</td>\n",
              "      <td>D1</td>\n",
              "      <td>MORTGAGE</td>\n",
              "      <td>...</td>\n",
              "      <td>1.856480</td>\n",
              "      <td>0.366386</td>\n",
              "      <td>0</td>\n",
              "      <td>INDIVIDUAL</td>\n",
              "      <td>54</td>\n",
              "      <td>0</td>\n",
              "      <td>47</td>\n",
              "      <td>196960</td>\n",
              "      <td>66060</td>\n",
              "      <td>0</td>\n",
              "    </tr>\n",
              "  </tbody>\n",
              "</table>\n",
              "<p>5 rows × 35 columns</p>\n",
              "</div>\n",
              "      <button class=\"colab-df-convert\" onclick=\"convertToInteractive('df-58626940-1b18-443d-8139-cab29b210d87')\"\n",
              "              title=\"Convert this dataframe to an interactive table.\"\n",
              "              style=\"display:none;\">\n",
              "        \n",
              "  <svg xmlns=\"http://www.w3.org/2000/svg\" height=\"24px\"viewBox=\"0 0 24 24\"\n",
              "       width=\"24px\">\n",
              "    <path d=\"M0 0h24v24H0V0z\" fill=\"none\"/>\n",
              "    <path d=\"M18.56 5.44l.94 2.06.94-2.06 2.06-.94-2.06-.94-.94-2.06-.94 2.06-2.06.94zm-11 1L8.5 8.5l.94-2.06 2.06-.94-2.06-.94L8.5 2.5l-.94 2.06-2.06.94zm10 10l.94 2.06.94-2.06 2.06-.94-2.06-.94-.94-2.06-.94 2.06-2.06.94z\"/><path d=\"M17.41 7.96l-1.37-1.37c-.4-.4-.92-.59-1.43-.59-.52 0-1.04.2-1.43.59L10.3 9.45l-7.72 7.72c-.78.78-.78 2.05 0 2.83L4 21.41c.39.39.9.59 1.41.59.51 0 1.02-.2 1.41-.59l7.78-7.78 2.81-2.81c.8-.78.8-2.07 0-2.86zM5.41 20L4 18.59l7.72-7.72 1.47 1.35L5.41 20z\"/>\n",
              "  </svg>\n",
              "      </button>\n",
              "      \n",
              "  <style>\n",
              "    .colab-df-container {\n",
              "      display:flex;\n",
              "      flex-wrap:wrap;\n",
              "      gap: 12px;\n",
              "    }\n",
              "\n",
              "    .colab-df-convert {\n",
              "      background-color: #E8F0FE;\n",
              "      border: none;\n",
              "      border-radius: 50%;\n",
              "      cursor: pointer;\n",
              "      display: none;\n",
              "      fill: #1967D2;\n",
              "      height: 32px;\n",
              "      padding: 0 0 0 0;\n",
              "      width: 32px;\n",
              "    }\n",
              "\n",
              "    .colab-df-convert:hover {\n",
              "      background-color: #E2EBFA;\n",
              "      box-shadow: 0px 1px 2px rgba(60, 64, 67, 0.3), 0px 1px 3px 1px rgba(60, 64, 67, 0.15);\n",
              "      fill: #174EA6;\n",
              "    }\n",
              "\n",
              "    [theme=dark] .colab-df-convert {\n",
              "      background-color: #3B4455;\n",
              "      fill: #D2E3FC;\n",
              "    }\n",
              "\n",
              "    [theme=dark] .colab-df-convert:hover {\n",
              "      background-color: #434B5C;\n",
              "      box-shadow: 0px 1px 3px 1px rgba(0, 0, 0, 0.15);\n",
              "      filter: drop-shadow(0px 1px 2px rgba(0, 0, 0, 0.3));\n",
              "      fill: #FFFFFF;\n",
              "    }\n",
              "  </style>\n",
              "\n",
              "      <script>\n",
              "        const buttonEl =\n",
              "          document.querySelector('#df-58626940-1b18-443d-8139-cab29b210d87 button.colab-df-convert');\n",
              "        buttonEl.style.display =\n",
              "          google.colab.kernel.accessAllowed ? 'block' : 'none';\n",
              "\n",
              "        async function convertToInteractive(key) {\n",
              "          const element = document.querySelector('#df-58626940-1b18-443d-8139-cab29b210d87');\n",
              "          const dataTable =\n",
              "            await google.colab.kernel.invokeFunction('convertToInteractive',\n",
              "                                                     [key], {});\n",
              "          if (!dataTable) return;\n",
              "\n",
              "          const docLinkHtml = 'Like what you see? Visit the ' +\n",
              "            '<a target=\"_blank\" href=https://colab.research.google.com/notebooks/data_table.ipynb>data table notebook</a>'\n",
              "            + ' to learn more about interactive tables.';\n",
              "          element.innerHTML = '';\n",
              "          dataTable['output_type'] = 'display_data';\n",
              "          await google.colab.output.renderOutput(dataTable, element);\n",
              "          const docLink = document.createElement('div');\n",
              "          docLink.innerHTML = docLinkHtml;\n",
              "          element.appendChild(docLink);\n",
              "        }\n",
              "      </script>\n",
              "    </div>\n",
              "  </div>\n",
              "  "
            ]
          },
          "metadata": {},
          "execution_count": 12
        }
      ]
    },
    {
      "cell_type": "code",
      "source": [
        "# DataFrame을 이루고 있는 column 별 데이터의 타입을 확인합니다.\n",
        "\n",
        "data.dtypes"
      ],
      "metadata": {
        "id": "nUIYJzklOLCy",
        "colab": {
          "base_uri": "https://localhost:8080/"
        },
        "outputId": "db2c9514-9089-4b31-f2c4-e470e82515e0"
      },
      "execution_count": null,
      "outputs": [
        {
          "output_type": "execute_result",
          "data": {
            "text/plain": [
              "ID                                int64\n",
              "Loan Amount                       int64\n",
              "Funded Amount                     int64\n",
              "Funded Amount Investor          float64\n",
              "Term                              int64\n",
              "Batch Enrolled                   object\n",
              "Interest Rate                   float64\n",
              "Grade                            object\n",
              "Sub Grade                        object\n",
              "Employment Duration              object\n",
              "Home Ownership                  float64\n",
              "Verification Status              object\n",
              "Payment Plan                     object\n",
              "Loan Title                       object\n",
              "Debit to Income                 float64\n",
              "Delinquency - two years           int64\n",
              "Inquires - six months             int64\n",
              "Open Account                      int64\n",
              "Public Record                     int64\n",
              "Revolving Balance                 int64\n",
              "Revolving Utilities             float64\n",
              "Total Accounts                    int64\n",
              "Initial List Status              object\n",
              "Total Received Interest         float64\n",
              "Total Received Late Fee         float64\n",
              "Recoveries                      float64\n",
              "Collection Recovery Fee         float64\n",
              "Collection 12 months Medical      int64\n",
              "Application Type                 object\n",
              "Last week Pay                     int64\n",
              "Accounts Delinquent               int64\n",
              "Total Collection Amount           int64\n",
              "Total Current Balance             int64\n",
              "Total Revolving Credit Limit      int64\n",
              "Loan Status                       int64\n",
              "dtype: object"
            ]
          },
          "metadata": {},
          "execution_count": 13
        }
      ]
    },
    {
      "cell_type": "code",
      "source": [
        "# describe()는 각 column에 대해 통계량을 요약해주는 함수입니다.\n",
        "# 기본적으로 NaN(누락데이터)는 제외하고 데이터 요약이 수행됩니다.\n",
        "\n",
        "data.describe()"
      ],
      "metadata": {
        "id": "o3-T5NZxONK4",
        "colab": {
          "base_uri": "https://localhost:8080/",
          "height": 446
        },
        "outputId": "cda9498d-9479-415d-b9fd-c5f92c415b2e"
      },
      "execution_count": null,
      "outputs": [
        {
          "output_type": "execute_result",
          "data": {
            "text/plain": [
              "                 ID   Loan Amount  Funded Amount  Funded Amount Investor  \\\n",
              "count  6.746300e+04  67463.000000   67463.000000            67463.000000   \n",
              "mean   2.562761e+07  16848.902776   15770.599114            14621.799323   \n",
              "std    2.109155e+07   8367.865726    8150.992662             6785.345170   \n",
              "min    1.297933e+06   1014.000000    1014.000000             1114.590204   \n",
              "25%    6.570288e+06  10012.000000    9266.500000             9831.684984   \n",
              "50%    1.791565e+07  16073.000000   13042.000000            12793.682170   \n",
              "75%    4.271521e+07  22106.000000   21793.000000            17807.594120   \n",
              "max    7.224578e+07  35000.000000   34999.000000            34999.746430   \n",
              "\n",
              "               Term  Interest Rate  Home Ownership  Debit to Income  \\\n",
              "count  67463.000000   67463.000000    67463.000000     67463.000000   \n",
              "mean      58.173814      11.846258    80541.502522        23.299241   \n",
              "std        3.327441       3.718629    45029.120366         8.451824   \n",
              "min       36.000000       5.320006    14573.537170         0.675299   \n",
              "25%       58.000000       9.297147    51689.843335        16.756416   \n",
              "50%       59.000000      11.377696    69335.832680        22.656658   \n",
              "75%       59.000000      14.193533    94623.322785        30.048400   \n",
              "max       59.000000      27.182348   406561.536400        39.629862   \n",
              "\n",
              "       Delinquency - two years  Inquires - six months  ...  \\\n",
              "count             67463.000000           67463.000000  ...   \n",
              "mean                  0.327127               0.145754  ...   \n",
              "std                   0.800888               0.473291  ...   \n",
              "min                   0.000000               0.000000  ...   \n",
              "25%                   0.000000               0.000000  ...   \n",
              "50%                   0.000000               0.000000  ...   \n",
              "75%                   0.000000               0.000000  ...   \n",
              "max                   8.000000               5.000000  ...   \n",
              "\n",
              "       Total Received Late Fee    Recoveries  Collection Recovery Fee  \\\n",
              "count             67463.000000  67463.000000             67463.000000   \n",
              "mean                  1.143969     59.691578                 1.125141   \n",
              "std                   5.244365    357.026346                 3.489885   \n",
              "min                   0.000003      0.000036                 0.000036   \n",
              "25%                   0.021114      1.629818                 0.476259   \n",
              "50%                   0.043398      3.344524                 0.780141   \n",
              "75%                   0.071884      5.453727                 1.070566   \n",
              "max                  42.618882   4354.467419               166.833000   \n",
              "\n",
              "       Collection 12 months Medical  Last week Pay  Accounts Delinquent  \\\n",
              "count                  67463.000000   67463.000000              67463.0   \n",
              "mean                       0.021301      71.163260                  0.0   \n",
              "std                        0.144385      43.315845                  0.0   \n",
              "min                        0.000000       0.000000                  0.0   \n",
              "25%                        0.000000      35.000000                  0.0   \n",
              "50%                        0.000000      68.000000                  0.0   \n",
              "75%                        0.000000     105.000000                  0.0   \n",
              "max                        1.000000     161.000000                  0.0   \n",
              "\n",
              "       Total Collection Amount  Total Current Balance  \\\n",
              "count             67463.000000           6.746300e+04   \n",
              "mean                146.467990           1.595739e+05   \n",
              "std                 744.382233           1.390332e+05   \n",
              "min                   1.000000           6.170000e+02   \n",
              "25%                  24.000000           5.037900e+04   \n",
              "50%                  36.000000           1.183690e+05   \n",
              "75%                  46.000000           2.283750e+05   \n",
              "max               16421.000000           1.177412e+06   \n",
              "\n",
              "       Total Revolving Credit Limit   Loan Status  \n",
              "count                  67463.000000  67463.000000  \n",
              "mean                   23123.005544      0.092510  \n",
              "std                    20916.699999      0.289747  \n",
              "min                     1000.000000      0.000000  \n",
              "25%                     8155.500000      0.000000  \n",
              "50%                    16733.000000      0.000000  \n",
              "75%                    32146.500000      0.000000  \n",
              "max                   201169.000000      1.000000  \n",
              "\n",
              "[8 rows x 26 columns]"
            ],
            "text/html": [
              "\n",
              "  <div id=\"df-c4a2b7e0-c6e9-4b90-9fcc-7762a4b97ad9\">\n",
              "    <div class=\"colab-df-container\">\n",
              "      <div>\n",
              "<style scoped>\n",
              "    .dataframe tbody tr th:only-of-type {\n",
              "        vertical-align: middle;\n",
              "    }\n",
              "\n",
              "    .dataframe tbody tr th {\n",
              "        vertical-align: top;\n",
              "    }\n",
              "\n",
              "    .dataframe thead th {\n",
              "        text-align: right;\n",
              "    }\n",
              "</style>\n",
              "<table border=\"1\" class=\"dataframe\">\n",
              "  <thead>\n",
              "    <tr style=\"text-align: right;\">\n",
              "      <th></th>\n",
              "      <th>ID</th>\n",
              "      <th>Loan Amount</th>\n",
              "      <th>Funded Amount</th>\n",
              "      <th>Funded Amount Investor</th>\n",
              "      <th>Term</th>\n",
              "      <th>Interest Rate</th>\n",
              "      <th>Home Ownership</th>\n",
              "      <th>Debit to Income</th>\n",
              "      <th>Delinquency - two years</th>\n",
              "      <th>Inquires - six months</th>\n",
              "      <th>...</th>\n",
              "      <th>Total Received Late Fee</th>\n",
              "      <th>Recoveries</th>\n",
              "      <th>Collection Recovery Fee</th>\n",
              "      <th>Collection 12 months Medical</th>\n",
              "      <th>Last week Pay</th>\n",
              "      <th>Accounts Delinquent</th>\n",
              "      <th>Total Collection Amount</th>\n",
              "      <th>Total Current Balance</th>\n",
              "      <th>Total Revolving Credit Limit</th>\n",
              "      <th>Loan Status</th>\n",
              "    </tr>\n",
              "  </thead>\n",
              "  <tbody>\n",
              "    <tr>\n",
              "      <th>count</th>\n",
              "      <td>6.746300e+04</td>\n",
              "      <td>67463.000000</td>\n",
              "      <td>67463.000000</td>\n",
              "      <td>67463.000000</td>\n",
              "      <td>67463.000000</td>\n",
              "      <td>67463.000000</td>\n",
              "      <td>67463.000000</td>\n",
              "      <td>67463.000000</td>\n",
              "      <td>67463.000000</td>\n",
              "      <td>67463.000000</td>\n",
              "      <td>...</td>\n",
              "      <td>67463.000000</td>\n",
              "      <td>67463.000000</td>\n",
              "      <td>67463.000000</td>\n",
              "      <td>67463.000000</td>\n",
              "      <td>67463.000000</td>\n",
              "      <td>67463.0</td>\n",
              "      <td>67463.000000</td>\n",
              "      <td>6.746300e+04</td>\n",
              "      <td>67463.000000</td>\n",
              "      <td>67463.000000</td>\n",
              "    </tr>\n",
              "    <tr>\n",
              "      <th>mean</th>\n",
              "      <td>2.562761e+07</td>\n",
              "      <td>16848.902776</td>\n",
              "      <td>15770.599114</td>\n",
              "      <td>14621.799323</td>\n",
              "      <td>58.173814</td>\n",
              "      <td>11.846258</td>\n",
              "      <td>80541.502522</td>\n",
              "      <td>23.299241</td>\n",
              "      <td>0.327127</td>\n",
              "      <td>0.145754</td>\n",
              "      <td>...</td>\n",
              "      <td>1.143969</td>\n",
              "      <td>59.691578</td>\n",
              "      <td>1.125141</td>\n",
              "      <td>0.021301</td>\n",
              "      <td>71.163260</td>\n",
              "      <td>0.0</td>\n",
              "      <td>146.467990</td>\n",
              "      <td>1.595739e+05</td>\n",
              "      <td>23123.005544</td>\n",
              "      <td>0.092510</td>\n",
              "    </tr>\n",
              "    <tr>\n",
              "      <th>std</th>\n",
              "      <td>2.109155e+07</td>\n",
              "      <td>8367.865726</td>\n",
              "      <td>8150.992662</td>\n",
              "      <td>6785.345170</td>\n",
              "      <td>3.327441</td>\n",
              "      <td>3.718629</td>\n",
              "      <td>45029.120366</td>\n",
              "      <td>8.451824</td>\n",
              "      <td>0.800888</td>\n",
              "      <td>0.473291</td>\n",
              "      <td>...</td>\n",
              "      <td>5.244365</td>\n",
              "      <td>357.026346</td>\n",
              "      <td>3.489885</td>\n",
              "      <td>0.144385</td>\n",
              "      <td>43.315845</td>\n",
              "      <td>0.0</td>\n",
              "      <td>744.382233</td>\n",
              "      <td>1.390332e+05</td>\n",
              "      <td>20916.699999</td>\n",
              "      <td>0.289747</td>\n",
              "    </tr>\n",
              "    <tr>\n",
              "      <th>min</th>\n",
              "      <td>1.297933e+06</td>\n",
              "      <td>1014.000000</td>\n",
              "      <td>1014.000000</td>\n",
              "      <td>1114.590204</td>\n",
              "      <td>36.000000</td>\n",
              "      <td>5.320006</td>\n",
              "      <td>14573.537170</td>\n",
              "      <td>0.675299</td>\n",
              "      <td>0.000000</td>\n",
              "      <td>0.000000</td>\n",
              "      <td>...</td>\n",
              "      <td>0.000003</td>\n",
              "      <td>0.000036</td>\n",
              "      <td>0.000036</td>\n",
              "      <td>0.000000</td>\n",
              "      <td>0.000000</td>\n",
              "      <td>0.0</td>\n",
              "      <td>1.000000</td>\n",
              "      <td>6.170000e+02</td>\n",
              "      <td>1000.000000</td>\n",
              "      <td>0.000000</td>\n",
              "    </tr>\n",
              "    <tr>\n",
              "      <th>25%</th>\n",
              "      <td>6.570288e+06</td>\n",
              "      <td>10012.000000</td>\n",
              "      <td>9266.500000</td>\n",
              "      <td>9831.684984</td>\n",
              "      <td>58.000000</td>\n",
              "      <td>9.297147</td>\n",
              "      <td>51689.843335</td>\n",
              "      <td>16.756416</td>\n",
              "      <td>0.000000</td>\n",
              "      <td>0.000000</td>\n",
              "      <td>...</td>\n",
              "      <td>0.021114</td>\n",
              "      <td>1.629818</td>\n",
              "      <td>0.476259</td>\n",
              "      <td>0.000000</td>\n",
              "      <td>35.000000</td>\n",
              "      <td>0.0</td>\n",
              "      <td>24.000000</td>\n",
              "      <td>5.037900e+04</td>\n",
              "      <td>8155.500000</td>\n",
              "      <td>0.000000</td>\n",
              "    </tr>\n",
              "    <tr>\n",
              "      <th>50%</th>\n",
              "      <td>1.791565e+07</td>\n",
              "      <td>16073.000000</td>\n",
              "      <td>13042.000000</td>\n",
              "      <td>12793.682170</td>\n",
              "      <td>59.000000</td>\n",
              "      <td>11.377696</td>\n",
              "      <td>69335.832680</td>\n",
              "      <td>22.656658</td>\n",
              "      <td>0.000000</td>\n",
              "      <td>0.000000</td>\n",
              "      <td>...</td>\n",
              "      <td>0.043398</td>\n",
              "      <td>3.344524</td>\n",
              "      <td>0.780141</td>\n",
              "      <td>0.000000</td>\n",
              "      <td>68.000000</td>\n",
              "      <td>0.0</td>\n",
              "      <td>36.000000</td>\n",
              "      <td>1.183690e+05</td>\n",
              "      <td>16733.000000</td>\n",
              "      <td>0.000000</td>\n",
              "    </tr>\n",
              "    <tr>\n",
              "      <th>75%</th>\n",
              "      <td>4.271521e+07</td>\n",
              "      <td>22106.000000</td>\n",
              "      <td>21793.000000</td>\n",
              "      <td>17807.594120</td>\n",
              "      <td>59.000000</td>\n",
              "      <td>14.193533</td>\n",
              "      <td>94623.322785</td>\n",
              "      <td>30.048400</td>\n",
              "      <td>0.000000</td>\n",
              "      <td>0.000000</td>\n",
              "      <td>...</td>\n",
              "      <td>0.071884</td>\n",
              "      <td>5.453727</td>\n",
              "      <td>1.070566</td>\n",
              "      <td>0.000000</td>\n",
              "      <td>105.000000</td>\n",
              "      <td>0.0</td>\n",
              "      <td>46.000000</td>\n",
              "      <td>2.283750e+05</td>\n",
              "      <td>32146.500000</td>\n",
              "      <td>0.000000</td>\n",
              "    </tr>\n",
              "    <tr>\n",
              "      <th>max</th>\n",
              "      <td>7.224578e+07</td>\n",
              "      <td>35000.000000</td>\n",
              "      <td>34999.000000</td>\n",
              "      <td>34999.746430</td>\n",
              "      <td>59.000000</td>\n",
              "      <td>27.182348</td>\n",
              "      <td>406561.536400</td>\n",
              "      <td>39.629862</td>\n",
              "      <td>8.000000</td>\n",
              "      <td>5.000000</td>\n",
              "      <td>...</td>\n",
              "      <td>42.618882</td>\n",
              "      <td>4354.467419</td>\n",
              "      <td>166.833000</td>\n",
              "      <td>1.000000</td>\n",
              "      <td>161.000000</td>\n",
              "      <td>0.0</td>\n",
              "      <td>16421.000000</td>\n",
              "      <td>1.177412e+06</td>\n",
              "      <td>201169.000000</td>\n",
              "      <td>1.000000</td>\n",
              "    </tr>\n",
              "  </tbody>\n",
              "</table>\n",
              "<p>8 rows × 26 columns</p>\n",
              "</div>\n",
              "      <button class=\"colab-df-convert\" onclick=\"convertToInteractive('df-c4a2b7e0-c6e9-4b90-9fcc-7762a4b97ad9')\"\n",
              "              title=\"Convert this dataframe to an interactive table.\"\n",
              "              style=\"display:none;\">\n",
              "        \n",
              "  <svg xmlns=\"http://www.w3.org/2000/svg\" height=\"24px\"viewBox=\"0 0 24 24\"\n",
              "       width=\"24px\">\n",
              "    <path d=\"M0 0h24v24H0V0z\" fill=\"none\"/>\n",
              "    <path d=\"M18.56 5.44l.94 2.06.94-2.06 2.06-.94-2.06-.94-.94-2.06-.94 2.06-2.06.94zm-11 1L8.5 8.5l.94-2.06 2.06-.94-2.06-.94L8.5 2.5l-.94 2.06-2.06.94zm10 10l.94 2.06.94-2.06 2.06-.94-2.06-.94-.94-2.06-.94 2.06-2.06.94z\"/><path d=\"M17.41 7.96l-1.37-1.37c-.4-.4-.92-.59-1.43-.59-.52 0-1.04.2-1.43.59L10.3 9.45l-7.72 7.72c-.78.78-.78 2.05 0 2.83L4 21.41c.39.39.9.59 1.41.59.51 0 1.02-.2 1.41-.59l7.78-7.78 2.81-2.81c.8-.78.8-2.07 0-2.86zM5.41 20L4 18.59l7.72-7.72 1.47 1.35L5.41 20z\"/>\n",
              "  </svg>\n",
              "      </button>\n",
              "      \n",
              "  <style>\n",
              "    .colab-df-container {\n",
              "      display:flex;\n",
              "      flex-wrap:wrap;\n",
              "      gap: 12px;\n",
              "    }\n",
              "\n",
              "    .colab-df-convert {\n",
              "      background-color: #E8F0FE;\n",
              "      border: none;\n",
              "      border-radius: 50%;\n",
              "      cursor: pointer;\n",
              "      display: none;\n",
              "      fill: #1967D2;\n",
              "      height: 32px;\n",
              "      padding: 0 0 0 0;\n",
              "      width: 32px;\n",
              "    }\n",
              "\n",
              "    .colab-df-convert:hover {\n",
              "      background-color: #E2EBFA;\n",
              "      box-shadow: 0px 1px 2px rgba(60, 64, 67, 0.3), 0px 1px 3px 1px rgba(60, 64, 67, 0.15);\n",
              "      fill: #174EA6;\n",
              "    }\n",
              "\n",
              "    [theme=dark] .colab-df-convert {\n",
              "      background-color: #3B4455;\n",
              "      fill: #D2E3FC;\n",
              "    }\n",
              "\n",
              "    [theme=dark] .colab-df-convert:hover {\n",
              "      background-color: #434B5C;\n",
              "      box-shadow: 0px 1px 3px 1px rgba(0, 0, 0, 0.15);\n",
              "      filter: drop-shadow(0px 1px 2px rgba(0, 0, 0, 0.3));\n",
              "      fill: #FFFFFF;\n",
              "    }\n",
              "  </style>\n",
              "\n",
              "      <script>\n",
              "        const buttonEl =\n",
              "          document.querySelector('#df-c4a2b7e0-c6e9-4b90-9fcc-7762a4b97ad9 button.colab-df-convert');\n",
              "        buttonEl.style.display =\n",
              "          google.colab.kernel.accessAllowed ? 'block' : 'none';\n",
              "\n",
              "        async function convertToInteractive(key) {\n",
              "          const element = document.querySelector('#df-c4a2b7e0-c6e9-4b90-9fcc-7762a4b97ad9');\n",
              "          const dataTable =\n",
              "            await google.colab.kernel.invokeFunction('convertToInteractive',\n",
              "                                                     [key], {});\n",
              "          if (!dataTable) return;\n",
              "\n",
              "          const docLinkHtml = 'Like what you see? Visit the ' +\n",
              "            '<a target=\"_blank\" href=https://colab.research.google.com/notebooks/data_table.ipynb>data table notebook</a>'\n",
              "            + ' to learn more about interactive tables.';\n",
              "          element.innerHTML = '';\n",
              "          dataTable['output_type'] = 'display_data';\n",
              "          await google.colab.output.renderOutput(dataTable, element);\n",
              "          const docLink = document.createElement('div');\n",
              "          docLink.innerHTML = docLinkHtml;\n",
              "          element.appendChild(docLink);\n",
              "        }\n",
              "      </script>\n",
              "    </div>\n",
              "  </div>\n",
              "  "
            ]
          },
          "metadata": {},
          "execution_count": 14
        }
      ]
    },
    {
      "cell_type": "markdown",
      "source": [
        "## 결측값과 중복값 확인하기\n",
        "결측값과 중복값은 데이터 분석 결과에 큰 영향을 줍니다.   \n",
        "제공된 데이터에 결측값과 중복값이 있는지 알아봅시다."
      ],
      "metadata": {
        "id": "QwnVTl0WOWoc"
      }
    },
    {
      "cell_type": "code",
      "source": [
        "# isnull()는 DataFrame에 있는 결측치(NA)를 boolean 값으로 반환하는 함수입니다.\n",
        "# 결측치가 있으면 True를 반환합니다.\n",
        "\n",
        "data.isnull().head()"
      ],
      "metadata": {
        "id": "JKSbfuRNOZ0I",
        "colab": {
          "base_uri": "https://localhost:8080/",
          "height": 352
        },
        "outputId": "eb714d0d-a1d2-4ba4-b78a-01fcea8bd246"
      },
      "execution_count": null,
      "outputs": [
        {
          "output_type": "execute_result",
          "data": {
            "text/plain": [
              "      ID  Loan Amount  Funded Amount  Funded Amount Investor   Term  \\\n",
              "0  False        False          False                   False  False   \n",
              "1  False        False          False                   False  False   \n",
              "2  False        False          False                   False  False   \n",
              "3  False        False          False                   False  False   \n",
              "4  False        False          False                   False  False   \n",
              "\n",
              "   Batch Enrolled  Interest Rate  Grade  Sub Grade  Employment Duration  ...  \\\n",
              "0           False          False  False      False                False  ...   \n",
              "1           False          False  False      False                False  ...   \n",
              "2           False          False  False      False                False  ...   \n",
              "3           False          False  False      False                False  ...   \n",
              "4           False          False  False      False                False  ...   \n",
              "\n",
              "   Recoveries  Collection Recovery Fee  Collection 12 months Medical  \\\n",
              "0       False                    False                         False   \n",
              "1       False                    False                         False   \n",
              "2       False                    False                         False   \n",
              "3       False                    False                         False   \n",
              "4       False                    False                         False   \n",
              "\n",
              "   Application Type  Last week Pay  Accounts Delinquent  \\\n",
              "0             False          False                False   \n",
              "1             False          False                False   \n",
              "2             False          False                False   \n",
              "3             False          False                False   \n",
              "4             False          False                False   \n",
              "\n",
              "   Total Collection Amount  Total Current Balance  \\\n",
              "0                    False                  False   \n",
              "1                    False                  False   \n",
              "2                    False                  False   \n",
              "3                    False                  False   \n",
              "4                    False                  False   \n",
              "\n",
              "   Total Revolving Credit Limit  Loan Status  \n",
              "0                         False        False  \n",
              "1                         False        False  \n",
              "2                         False        False  \n",
              "3                         False        False  \n",
              "4                         False        False  \n",
              "\n",
              "[5 rows x 35 columns]"
            ],
            "text/html": [
              "\n",
              "  <div id=\"df-e69735b0-d435-4881-87d1-b15988e5b3ee\">\n",
              "    <div class=\"colab-df-container\">\n",
              "      <div>\n",
              "<style scoped>\n",
              "    .dataframe tbody tr th:only-of-type {\n",
              "        vertical-align: middle;\n",
              "    }\n",
              "\n",
              "    .dataframe tbody tr th {\n",
              "        vertical-align: top;\n",
              "    }\n",
              "\n",
              "    .dataframe thead th {\n",
              "        text-align: right;\n",
              "    }\n",
              "</style>\n",
              "<table border=\"1\" class=\"dataframe\">\n",
              "  <thead>\n",
              "    <tr style=\"text-align: right;\">\n",
              "      <th></th>\n",
              "      <th>ID</th>\n",
              "      <th>Loan Amount</th>\n",
              "      <th>Funded Amount</th>\n",
              "      <th>Funded Amount Investor</th>\n",
              "      <th>Term</th>\n",
              "      <th>Batch Enrolled</th>\n",
              "      <th>Interest Rate</th>\n",
              "      <th>Grade</th>\n",
              "      <th>Sub Grade</th>\n",
              "      <th>Employment Duration</th>\n",
              "      <th>...</th>\n",
              "      <th>Recoveries</th>\n",
              "      <th>Collection Recovery Fee</th>\n",
              "      <th>Collection 12 months Medical</th>\n",
              "      <th>Application Type</th>\n",
              "      <th>Last week Pay</th>\n",
              "      <th>Accounts Delinquent</th>\n",
              "      <th>Total Collection Amount</th>\n",
              "      <th>Total Current Balance</th>\n",
              "      <th>Total Revolving Credit Limit</th>\n",
              "      <th>Loan Status</th>\n",
              "    </tr>\n",
              "  </thead>\n",
              "  <tbody>\n",
              "    <tr>\n",
              "      <th>0</th>\n",
              "      <td>False</td>\n",
              "      <td>False</td>\n",
              "      <td>False</td>\n",
              "      <td>False</td>\n",
              "      <td>False</td>\n",
              "      <td>False</td>\n",
              "      <td>False</td>\n",
              "      <td>False</td>\n",
              "      <td>False</td>\n",
              "      <td>False</td>\n",
              "      <td>...</td>\n",
              "      <td>False</td>\n",
              "      <td>False</td>\n",
              "      <td>False</td>\n",
              "      <td>False</td>\n",
              "      <td>False</td>\n",
              "      <td>False</td>\n",
              "      <td>False</td>\n",
              "      <td>False</td>\n",
              "      <td>False</td>\n",
              "      <td>False</td>\n",
              "    </tr>\n",
              "    <tr>\n",
              "      <th>1</th>\n",
              "      <td>False</td>\n",
              "      <td>False</td>\n",
              "      <td>False</td>\n",
              "      <td>False</td>\n",
              "      <td>False</td>\n",
              "      <td>False</td>\n",
              "      <td>False</td>\n",
              "      <td>False</td>\n",
              "      <td>False</td>\n",
              "      <td>False</td>\n",
              "      <td>...</td>\n",
              "      <td>False</td>\n",
              "      <td>False</td>\n",
              "      <td>False</td>\n",
              "      <td>False</td>\n",
              "      <td>False</td>\n",
              "      <td>False</td>\n",
              "      <td>False</td>\n",
              "      <td>False</td>\n",
              "      <td>False</td>\n",
              "      <td>False</td>\n",
              "    </tr>\n",
              "    <tr>\n",
              "      <th>2</th>\n",
              "      <td>False</td>\n",
              "      <td>False</td>\n",
              "      <td>False</td>\n",
              "      <td>False</td>\n",
              "      <td>False</td>\n",
              "      <td>False</td>\n",
              "      <td>False</td>\n",
              "      <td>False</td>\n",
              "      <td>False</td>\n",
              "      <td>False</td>\n",
              "      <td>...</td>\n",
              "      <td>False</td>\n",
              "      <td>False</td>\n",
              "      <td>False</td>\n",
              "      <td>False</td>\n",
              "      <td>False</td>\n",
              "      <td>False</td>\n",
              "      <td>False</td>\n",
              "      <td>False</td>\n",
              "      <td>False</td>\n",
              "      <td>False</td>\n",
              "    </tr>\n",
              "    <tr>\n",
              "      <th>3</th>\n",
              "      <td>False</td>\n",
              "      <td>False</td>\n",
              "      <td>False</td>\n",
              "      <td>False</td>\n",
              "      <td>False</td>\n",
              "      <td>False</td>\n",
              "      <td>False</td>\n",
              "      <td>False</td>\n",
              "      <td>False</td>\n",
              "      <td>False</td>\n",
              "      <td>...</td>\n",
              "      <td>False</td>\n",
              "      <td>False</td>\n",
              "      <td>False</td>\n",
              "      <td>False</td>\n",
              "      <td>False</td>\n",
              "      <td>False</td>\n",
              "      <td>False</td>\n",
              "      <td>False</td>\n",
              "      <td>False</td>\n",
              "      <td>False</td>\n",
              "    </tr>\n",
              "    <tr>\n",
              "      <th>4</th>\n",
              "      <td>False</td>\n",
              "      <td>False</td>\n",
              "      <td>False</td>\n",
              "      <td>False</td>\n",
              "      <td>False</td>\n",
              "      <td>False</td>\n",
              "      <td>False</td>\n",
              "      <td>False</td>\n",
              "      <td>False</td>\n",
              "      <td>False</td>\n",
              "      <td>...</td>\n",
              "      <td>False</td>\n",
              "      <td>False</td>\n",
              "      <td>False</td>\n",
              "      <td>False</td>\n",
              "      <td>False</td>\n",
              "      <td>False</td>\n",
              "      <td>False</td>\n",
              "      <td>False</td>\n",
              "      <td>False</td>\n",
              "      <td>False</td>\n",
              "    </tr>\n",
              "  </tbody>\n",
              "</table>\n",
              "<p>5 rows × 35 columns</p>\n",
              "</div>\n",
              "      <button class=\"colab-df-convert\" onclick=\"convertToInteractive('df-e69735b0-d435-4881-87d1-b15988e5b3ee')\"\n",
              "              title=\"Convert this dataframe to an interactive table.\"\n",
              "              style=\"display:none;\">\n",
              "        \n",
              "  <svg xmlns=\"http://www.w3.org/2000/svg\" height=\"24px\"viewBox=\"0 0 24 24\"\n",
              "       width=\"24px\">\n",
              "    <path d=\"M0 0h24v24H0V0z\" fill=\"none\"/>\n",
              "    <path d=\"M18.56 5.44l.94 2.06.94-2.06 2.06-.94-2.06-.94-.94-2.06-.94 2.06-2.06.94zm-11 1L8.5 8.5l.94-2.06 2.06-.94-2.06-.94L8.5 2.5l-.94 2.06-2.06.94zm10 10l.94 2.06.94-2.06 2.06-.94-2.06-.94-.94-2.06-.94 2.06-2.06.94z\"/><path d=\"M17.41 7.96l-1.37-1.37c-.4-.4-.92-.59-1.43-.59-.52 0-1.04.2-1.43.59L10.3 9.45l-7.72 7.72c-.78.78-.78 2.05 0 2.83L4 21.41c.39.39.9.59 1.41.59.51 0 1.02-.2 1.41-.59l7.78-7.78 2.81-2.81c.8-.78.8-2.07 0-2.86zM5.41 20L4 18.59l7.72-7.72 1.47 1.35L5.41 20z\"/>\n",
              "  </svg>\n",
              "      </button>\n",
              "      \n",
              "  <style>\n",
              "    .colab-df-container {\n",
              "      display:flex;\n",
              "      flex-wrap:wrap;\n",
              "      gap: 12px;\n",
              "    }\n",
              "\n",
              "    .colab-df-convert {\n",
              "      background-color: #E8F0FE;\n",
              "      border: none;\n",
              "      border-radius: 50%;\n",
              "      cursor: pointer;\n",
              "      display: none;\n",
              "      fill: #1967D2;\n",
              "      height: 32px;\n",
              "      padding: 0 0 0 0;\n",
              "      width: 32px;\n",
              "    }\n",
              "\n",
              "    .colab-df-convert:hover {\n",
              "      background-color: #E2EBFA;\n",
              "      box-shadow: 0px 1px 2px rgba(60, 64, 67, 0.3), 0px 1px 3px 1px rgba(60, 64, 67, 0.15);\n",
              "      fill: #174EA6;\n",
              "    }\n",
              "\n",
              "    [theme=dark] .colab-df-convert {\n",
              "      background-color: #3B4455;\n",
              "      fill: #D2E3FC;\n",
              "    }\n",
              "\n",
              "    [theme=dark] .colab-df-convert:hover {\n",
              "      background-color: #434B5C;\n",
              "      box-shadow: 0px 1px 3px 1px rgba(0, 0, 0, 0.15);\n",
              "      filter: drop-shadow(0px 1px 2px rgba(0, 0, 0, 0.3));\n",
              "      fill: #FFFFFF;\n",
              "    }\n",
              "  </style>\n",
              "\n",
              "      <script>\n",
              "        const buttonEl =\n",
              "          document.querySelector('#df-e69735b0-d435-4881-87d1-b15988e5b3ee button.colab-df-convert');\n",
              "        buttonEl.style.display =\n",
              "          google.colab.kernel.accessAllowed ? 'block' : 'none';\n",
              "\n",
              "        async function convertToInteractive(key) {\n",
              "          const element = document.querySelector('#df-e69735b0-d435-4881-87d1-b15988e5b3ee');\n",
              "          const dataTable =\n",
              "            await google.colab.kernel.invokeFunction('convertToInteractive',\n",
              "                                                     [key], {});\n",
              "          if (!dataTable) return;\n",
              "\n",
              "          const docLinkHtml = 'Like what you see? Visit the ' +\n",
              "            '<a target=\"_blank\" href=https://colab.research.google.com/notebooks/data_table.ipynb>data table notebook</a>'\n",
              "            + ' to learn more about interactive tables.';\n",
              "          element.innerHTML = '';\n",
              "          dataTable['output_type'] = 'display_data';\n",
              "          await google.colab.output.renderOutput(dataTable, element);\n",
              "          const docLink = document.createElement('div');\n",
              "          docLink.innerHTML = docLinkHtml;\n",
              "          element.appendChild(docLink);\n",
              "        }\n",
              "      </script>\n",
              "    </div>\n",
              "  </div>\n",
              "  "
            ]
          },
          "metadata": {},
          "execution_count": 15
        }
      ]
    },
    {
      "cell_type": "code",
      "source": [
        "# isnull()에 sum() 를 결합하여 DataFrame에 있는 결측치의 합을 구합니다.\n",
        "\n",
        "data.isnull().sum() \n",
        "# 현재 데이터에서는 결측치가 없습니다. \n",
        "# 데이터에 결측치가 있는 경우, 결측값을 갖는 데이터를 삭제하거나 결측값을 보정하여 채우는 방법으로 결측치를 처리하여야 합니다."
      ],
      "metadata": {
        "id": "B-7xaXlZOcYI",
        "colab": {
          "base_uri": "https://localhost:8080/"
        },
        "outputId": "2b7a64fc-9388-48eb-c6e7-bdee15fd6dde"
      },
      "execution_count": null,
      "outputs": [
        {
          "output_type": "execute_result",
          "data": {
            "text/plain": [
              "ID                              0\n",
              "Loan Amount                     0\n",
              "Funded Amount                   0\n",
              "Funded Amount Investor          0\n",
              "Term                            0\n",
              "Batch Enrolled                  0\n",
              "Interest Rate                   0\n",
              "Grade                           0\n",
              "Sub Grade                       0\n",
              "Employment Duration             0\n",
              "Home Ownership                  0\n",
              "Verification Status             0\n",
              "Payment Plan                    0\n",
              "Loan Title                      0\n",
              "Debit to Income                 0\n",
              "Delinquency - two years         0\n",
              "Inquires - six months           0\n",
              "Open Account                    0\n",
              "Public Record                   0\n",
              "Revolving Balance               0\n",
              "Revolving Utilities             0\n",
              "Total Accounts                  0\n",
              "Initial List Status             0\n",
              "Total Received Interest         0\n",
              "Total Received Late Fee         0\n",
              "Recoveries                      0\n",
              "Collection Recovery Fee         0\n",
              "Collection 12 months Medical    0\n",
              "Application Type                0\n",
              "Last week Pay                   0\n",
              "Accounts Delinquent             0\n",
              "Total Collection Amount         0\n",
              "Total Current Balance           0\n",
              "Total Revolving Credit Limit    0\n",
              "Loan Status                     0\n",
              "dtype: int64"
            ]
          },
          "metadata": {},
          "execution_count": 16
        }
      ]
    },
    {
      "cell_type": "code",
      "source": [
        "# duplicated()는 중복된 데이터를 Series 형식으로 반환합니다.\n",
        "\n",
        "data.duplicated()"
      ],
      "metadata": {
        "id": "CcJX2TvFO_SN",
        "colab": {
          "base_uri": "https://localhost:8080/"
        },
        "outputId": "7986c083-b58d-40a5-d909-c40a23822a71"
      },
      "execution_count": null,
      "outputs": [
        {
          "output_type": "execute_result",
          "data": {
            "text/plain": [
              "0        False\n",
              "1        False\n",
              "2        False\n",
              "3        False\n",
              "4        False\n",
              "         ...  \n",
              "67458    False\n",
              "67459    False\n",
              "67460    False\n",
              "67461    False\n",
              "67462    False\n",
              "Length: 67463, dtype: bool"
            ]
          },
          "metadata": {},
          "execution_count": 17
        }
      ]
    },
    {
      "cell_type": "code",
      "source": [
        "# duplicated()에 sum()을 결합하여 DataFrame에 있는 중복 데이터의 합을 구합니다.\n",
        "\n",
        "data.duplicated().sum()"
      ],
      "metadata": {
        "id": "mx3WIDJ2PAah",
        "colab": {
          "base_uri": "https://localhost:8080/"
        },
        "outputId": "8f1a94dd-20ac-4f9f-af70-2e758b226fd8"
      },
      "execution_count": null,
      "outputs": [
        {
          "output_type": "execute_result",
          "data": {
            "text/plain": [
              "0"
            ]
          },
          "metadata": {},
          "execution_count": 18
        }
      ]
    },
    {
      "cell_type": "markdown",
      "source": [
        "## 문제 1 :: 데이터 정리"
      ],
      "metadata": {
        "id": "g2_OxCH0RK5i"
      }
    },
    {
      "cell_type": "markdown",
      "source": [
        "### 문제 1-1\n",
        "DataFrame data의 각 feature에 포함된 unique value의 개수를 구하고 그 개수를 출력하여 보고서에 캡처하여 첨부하세요 (힌트: pandas에 있는 함수 사용) "
      ],
      "metadata": {
        "id": "7JFDlxJdR0qu"
      }
    },
    {
      "cell_type": "code",
      "source": [
        "### 문제 1-1 ###\n",
        "print(data.nunique()) # 각 열에서 중복되지 않은 값의 개수 출력\n",
        "################"
      ],
      "metadata": {
        "id": "9yIt3AtpR9FJ",
        "colab": {
          "base_uri": "https://localhost:8080/"
        },
        "outputId": "01af12fa-72e3-438c-8fa3-60fc986b4cf3"
      },
      "execution_count": null,
      "outputs": [
        {
          "output_type": "stream",
          "name": "stdout",
          "text": [
            "ID                              67463\n",
            "Loan Amount                     27525\n",
            "Funded Amount                   24548\n",
            "Funded Amount Investor          67441\n",
            "Term                                3\n",
            "Batch Enrolled                     41\n",
            "Interest Rate                   67448\n",
            "Grade                               7\n",
            "Sub Grade                          35\n",
            "Employment Duration                 3\n",
            "Home Ownership                  67454\n",
            "Verification Status                 3\n",
            "Payment Plan                        1\n",
            "Loan Title                        109\n",
            "Debit to Income                 67454\n",
            "Delinquency - two years             9\n",
            "Inquires - six months               6\n",
            "Open Account                       36\n",
            "Public Record                       5\n",
            "Revolving Balance               20582\n",
            "Revolving Utilities             67458\n",
            "Total Accounts                     69\n",
            "Initial List Status                 2\n",
            "Total Received Interest         67451\n",
            "Total Received Late Fee         67380\n",
            "Recoveries                      67387\n",
            "Collection Recovery Fee         67313\n",
            "Collection 12 months Medical        2\n",
            "Application Type                    2\n",
            "Last week Pay                     162\n",
            "Accounts Delinquent                 1\n",
            "Total Collection Amount          2193\n",
            "Total Current Balance           60901\n",
            "Total Revolving Credit Limit    37708\n",
            "Loan Status                         2\n",
            "dtype: int64\n"
          ]
        }
      ]
    },
    {
      "cell_type": "markdown",
      "source": [
        "### 문제 1-2\n",
        "문제 1-1 결과를 바탕으로 unique value가 1인 column을 삭제하고 data.columns를 실행하여 그 결과를 보고서에 캡처하여 첨부하세요"
      ],
      "metadata": {
        "id": "vDAyXZmzS7P7"
      }
    },
    {
      "cell_type": "code",
      "source": [
        "### 문제 1-2 ###\n",
        "data = data.drop(columns = data.columns[data.nunique() == 1]) # 열의 값이 모두 같은 데이터셋 제거\n",
        "################\n",
        "print(data.columns)"
      ],
      "metadata": {
        "id": "lomPKB8JTJLw",
        "colab": {
          "base_uri": "https://localhost:8080/"
        },
        "outputId": "aac5a595-8ea8-4aa1-9ff8-2addf8af77c4"
      },
      "execution_count": null,
      "outputs": [
        {
          "output_type": "stream",
          "name": "stdout",
          "text": [
            "Index(['ID', 'Loan Amount', 'Funded Amount', 'Funded Amount Investor', 'Term',\n",
            "       'Batch Enrolled', 'Interest Rate', 'Grade', 'Sub Grade',\n",
            "       'Employment Duration', 'Home Ownership', 'Verification Status',\n",
            "       'Loan Title', 'Debit to Income', 'Delinquency - two years',\n",
            "       'Inquires - six months', 'Open Account', 'Public Record',\n",
            "       'Revolving Balance', 'Revolving Utilities', 'Total Accounts',\n",
            "       'Initial List Status', 'Total Received Interest',\n",
            "       'Total Received Late Fee', 'Recoveries', 'Collection Recovery Fee',\n",
            "       'Collection 12 months Medical', 'Application Type', 'Last week Pay',\n",
            "       'Total Collection Amount', 'Total Current Balance',\n",
            "       'Total Revolving Credit Limit', 'Loan Status'],\n",
            "      dtype='object')\n"
          ]
        }
      ]
    },
    {
      "cell_type": "markdown",
      "source": [
        "### 문제 1-3\n",
        "DataFrame data의 feature 이름에는 feature의 이름을 이루는 단어가 두 단어 이상인 경우, 공백이 포함되어 있습니다. feature 이름에 공백을 없애는 코드를 작성하고 data.columns를 실행하여 그 결과를 보고서에 첨부하세요."
      ],
      "metadata": {
        "id": "XqZ_xGnDRN6P"
      }
    },
    {
      "cell_type": "code",
      "source": [
        "### 문제 1-3 ###\n",
        "data.columns = data.columns.str.replace(' ','') # 열 이름에서 공백 제거\n",
        "################\n",
        "print(data.columns)"
      ],
      "metadata": {
        "id": "QRMIen3yRNgK",
        "colab": {
          "base_uri": "https://localhost:8080/"
        },
        "outputId": "ee6c7027-d26b-45b2-f5b5-9d532e16e7ec"
      },
      "execution_count": null,
      "outputs": [
        {
          "output_type": "stream",
          "name": "stdout",
          "text": [
            "Index(['ID', 'LoanAmount', 'FundedAmount', 'FundedAmountInvestor', 'Term',\n",
            "       'BatchEnrolled', 'InterestRate', 'Grade', 'SubGrade',\n",
            "       'EmploymentDuration', 'HomeOwnership', 'VerificationStatus',\n",
            "       'PaymentPlan', 'LoanTitle', 'DebittoIncome', 'Delinquency-twoyears',\n",
            "       'Inquires-sixmonths', 'OpenAccount', 'PublicRecord', 'RevolvingBalance',\n",
            "       'RevolvingUtilities', 'TotalAccounts', 'InitialListStatus',\n",
            "       'TotalReceivedInterest', 'TotalReceivedLateFee', 'Recoveries',\n",
            "       'CollectionRecoveryFee', 'Collection12monthsMedical', 'ApplicationType',\n",
            "       'LastweekPay', 'AccountsDelinquent', 'TotalCollectionAmount',\n",
            "       'TotalCurrentBalance', 'TotalRevolvingCreditLimit', 'LoanStatus'],\n",
            "      dtype='object')\n"
          ]
        }
      ]
    },
    {
      "cell_type": "markdown",
      "source": [
        "## 문제 2 :: 범주형, 수치형 데이터\n"
      ],
      "metadata": {
        "id": "fGfN4F3-l_jz"
      }
    },
    {
      "cell_type": "markdown",
      "source": [
        "### 문제 2-1\n",
        "위 ```데이터 살펴보기``` 섹션에서 ```data.dtypes```로 데이터의 type을 살펴보았습니다. ```data.dtypes``` 결과를 참고하여 범주형 데이터(categorical data)를 가진 열의 이름을 담고 있는 List ```categorical```를 아래의 조건을 지켜서 만드세요.\n",
        "* 이 문제에서는 범주형 데이터가 ```object``` type을 가지고 있다고 가정합니다.\n",
        "(실제 데이터에서는 dtypes 결과가 int이더라도 categorical일 수 있습니다)\n",
        "* categorical 변수의 data type은 Index가 아니라 List입니다.\n",
        "<br>\n",
        "보고서에 코드와 categorical 변수의 출력값을 함께 캡처하여 제출합니다."
      ],
      "metadata": {
        "id": "XrEnZCH6Ck4r"
      }
    },
    {
      "cell_type": "code",
      "source": [
        "### 문제 2-1 ###\n",
        "# 보고서에 코드와 categorical 함수의 출력값을 함께 캡처하여 제출합니다\n",
        "categorical = list(data.dtypes[data.dtypes == 'object'].index) #데이터 타입이 object 인 데이터 list로 출력\n",
        "###############\n",
        "print(categorical)"
      ],
      "metadata": {
        "id": "kM64YmrEmHtg",
        "colab": {
          "base_uri": "https://localhost:8080/"
        },
        "outputId": "a779013a-82a7-4b4f-a70d-2ec099cb81aa"
      },
      "execution_count": null,
      "outputs": [
        {
          "output_type": "stream",
          "name": "stdout",
          "text": [
            "['BatchEnrolled', 'Grade', 'SubGrade', 'EmploymentDuration', 'VerificationStatus', 'LoanTitle', 'InitialListStatus', 'ApplicationType']\n"
          ]
        }
      ]
    },
    {
      "cell_type": "markdown",
      "source": [
        "### 문제 2-2\n",
        "List categorical에 속하지 않은 feature들을 List numerical에 저장하고 numerical를 출력하여 보고서에 첨부하세요. (힌트: set(집합)"
      ],
      "metadata": {
        "id": "mVH8GP1OCn2c"
      }
    },
    {
      "cell_type": "code",
      "source": [
        "### 문제 2-2 ###\n",
        "cols = set(data.columns) #모든 데이터 열 이름을 집합으로 저장 \n",
        "categorical = set(categorical) # 데이터 타입이 object 인 데이터를 집합으로 저장\n",
        "numerical = list(cols - categorical) #전체에서 categorical에 포함되지 않는 나머지 원소를 리스트로 저장 \n",
        "###############\n",
        "print(numerical)"
      ],
      "metadata": {
        "id": "IBY5cBNlC0FC",
        "colab": {
          "base_uri": "https://localhost:8080/"
        },
        "outputId": "487b19f3-960b-4a07-f04c-2f62fb7b88ea"
      },
      "execution_count": null,
      "outputs": [
        {
          "output_type": "stream",
          "name": "stdout",
          "text": [
            "['LoanStatus', 'FundedAmount', 'TotalRevolvingCreditLimit', 'TotalReceivedInterest', 'FundedAmountInvestor', 'OpenAccount', 'RevolvingBalance', 'DebittoIncome', 'Recoveries', 'ID', 'Term', 'TotalAccounts', 'HomeOwnership', 'RevolvingUtilities', 'TotalCollectionAmount', 'InterestRate', 'Inquires-sixmonths', 'PublicRecord', 'TotalReceivedLateFee', 'LoanAmount', 'TotalCurrentBalance', 'Delinquency-twoyears', 'Collection12monthsMedical', 'LastweekPay', 'CollectionRecoveryFee']\n"
          ]
        }
      ]
    },
    {
      "cell_type": "markdown",
      "source": [
        "## 문제 3 :: 데이터 시각화\n"
      ],
      "metadata": {
        "id": "HFGq6fTb7ReK"
      }
    },
    {
      "cell_type": "markdown",
      "source": [
        "### 문제 3-1\n",
        "```seaborn.countplot```을 사용하여 각 Loan Status 에 대한 Grade, Term, Employment Duration의 countplot을 출력하여 3개의 countplot을 보고서에 캡처하여 첨부하세요.\n"
      ],
      "metadata": {
        "id": "oN8__NTlFrIi"
      }
    },
    {
      "cell_type": "code",
      "source": [
        "# Loan Status에 대한 Grade의 countplot 작성\n",
        "df = pd.read_csv(path) # 데이터 파일 로드\n",
        "sns.countplot(data = df, x=\"Grade\", hue=\"Loan Status\") # 등급별 대출 상태 count plot 출력\n",
        "plt.show() # 그래프 출력"
      ],
      "metadata": {
        "id": "khhSq9FbDmFr",
        "colab": {
          "base_uri": "https://localhost:8080/",
          "height": 279
        },
        "outputId": "508ebbff-e049-411a-f052-d7f1a0892a2d"
      },
      "execution_count": null,
      "outputs": [
        {
          "output_type": "display_data",
          "data": {
            "text/plain": [
              "<Figure size 432x288 with 1 Axes>"
            ],
            "image/png": "[encoded data removed]"
          },
          "metadata": {
            "needs_background": "light"
          }
        }
      ]
    },
    {
      "cell_type": "code",
      "source": [
        "# Loan Status에 대한 Term의 countplot 작성\n",
        "sns.countplot(data = df, x=\"Term\", hue=\"Loan Status\") # 대출 기간별 대출 상태 count plot 출력\n",
        "plt.show() # 그래프 출력"
      ],
      "metadata": {
        "id": "t7ESlRSeDmWz",
        "colab": {
          "base_uri": "https://localhost:8080/",
          "height": 279
        },
        "outputId": "e1a6cf9f-2942-409f-825a-5ef73bdb33b8"
      },
      "execution_count": null,
      "outputs": [
        {
          "output_type": "display_data",
          "data": {
            "text/plain": [
              "<Figure size 432x288 with 1 Axes>"
            ],
            "image/png": "[encoded data removed]"
          },
          "metadata": {
            "needs_background": "light"
          }
        }
      ]
    },
    {
      "cell_type": "code",
      "source": [
        "# Loan Status에 대한 Employment Duration의 countplot 작성\n",
        "sns.countplot(data = df, x=\"Employment Duration\", hue=\"Loan Status\") # 고용 기간별 대출 상태 count plot 출력\n",
        "plt.show() # 그래프 출력"
      ],
      "metadata": {
        "id": "lpXf16bbDmiF",
        "colab": {
          "base_uri": "https://localhost:8080/",
          "height": 279
        },
        "outputId": "ca9d3d1b-4375-40af-bddb-220e39ed8813"
      },
      "execution_count": null,
      "outputs": [
        {
          "output_type": "display_data",
          "data": {
            "text/plain": [
              "<Figure size 432x288 with 1 Axes>"
            ],
            "image/png": "[encoded data removed]"
          },
          "metadata": {
            "needs_background": "light"
          }
        }
      ]
    },
    {
      "cell_type": "markdown",
      "source": [
        "### 문제 3-2\n",
        "'Interest Rate'에 대한 boxplot을 그리고 캡처하여 보고서에 첨부하세요. 그리고 boxplot에 대해서 아래의 조건을 지켜 서술하세요. (강의노트 2, 40쪽 참고)\n",
        "* 서술에는 최소, 최대, 중앙값, Q1, Q3, outlier(이상치)를 포함합니다."
      ],
      "metadata": {
        "id": "X8T5RjbqHk3E"
      }
    },
    {
      "cell_type": "markdown",
      "source": [
        "### 문제 3-3\n",
        "문제 3-2에서 그린 boxplot에는 outlier가 있습니다. 'InterestRate'에 있는 outlier를 제거하는 함수 extract_outliers() 의 빈 칸을 채워 outlier를 찾으세요. extract_outliers 함수를 캡처하여 보고서에 첨부하세요.\n",
        "* 입력: 원본 데이터, outlier가 있는 열의 이름\n",
        "* 출력: outlier들만 있는 DataFrame"
      ],
      "metadata": {
        "id": "CiocpEsJsIlf"
      }
    },
    {
      "cell_type": "code",
      "source": [
        "def extract_outliers(data,col):\n",
        "\n",
        "  q1 =  data[col].quantile(0.25)\n",
        "  q3 = data[col].quantile(0.75)\n",
        "\n",
        "  ################  문제 3-3  ####################\n",
        "  # 소스코드를 입력하고 캡처 후 보고서에 업로드하세요.\n",
        "  # 코드 시작과 코드 끝 라인을 삭제하지 마세요.\n",
        "  ################ 코드 시작  #####################\n",
        "\n",
        "  iqr = q3 - q1 # 이상치 확인\n",
        "  lower_bound = q1 - 1.5 * iqr # 이상치의 하한값\n",
        "  upper_bound = q3 + 1.5 * iqr # 이상치의 상한값\n",
        "  \n",
        "  out = data[(data[col] >= lower_bound) & (data[col] <= upper_bound)] #이상치 제거\n",
        "  ################ 코드 끝 ######################\n",
        "  return out"
      ],
      "metadata": {
        "id": "l4DPo2Pstck1"
      },
      "execution_count": null,
      "outputs": []
    },
    {
      "cell_type": "code",
      "source": [
        "outlier = extract_outliers(data, \"InterestRate\")"
      ],
      "metadata": {
        "id": "NczYAbRgtgbp"
      },
      "execution_count": null,
      "outputs": []
    },
    {
      "cell_type": "code",
      "source": [
        "data = data.drop(outlier.index, errors='ignore', axis=0)"
      ],
      "metadata": {
        "id": "fQSbhgnGuX7q"
      },
      "execution_count": null,
      "outputs": []
    },
    {
      "cell_type": "markdown",
      "source": [
        "## 문제 4\n",
        "문제1에서 구한 List categorical에는 'Grade' 와 'Sub Grade' feature가 포함되어있습니다. 이 두 가지 feature에 대해 살펴봅시다."
      ],
      "metadata": {
        "id": "0kB4zjhfo56v"
      }
    },
    {
      "cell_type": "code",
      "source": [
        "data['Grade'].unique() # 'Grade'에 포함된 값 확인"
      ],
      "metadata": {
        "id": "-DierDauu0XR",
        "colab": {
          "base_uri": "https://localhost:8080/"
        },
        "outputId": "5101c50c-78d2-4221-c0e8-0ac2c11b8a67"
      },
      "execution_count": null,
      "outputs": [
        {
          "output_type": "execute_result",
          "data": {
            "text/plain": [
              "array(['A', 'E', 'B', 'D', 'C', 'F', 'G'], dtype=object)"
            ]
          },
          "metadata": {},
          "execution_count": 71
        }
      ]
    },
    {
      "cell_type": "code",
      "source": [
        "data['SubGrade'].unique() # 'SubGrade'에 포함된 값 확인"
      ],
      "metadata": {
        "id": "__FB9bXyyS1Y",
        "colab": {
          "base_uri": "https://localhost:8080/"
        },
        "outputId": "29f4bf4f-6c6a-4be1-f83b-d1fc57bfd06b"
      },
      "execution_count": null,
      "outputs": [
        {
          "output_type": "execute_result",
          "data": {
            "text/plain": [
              "array(['B5', 'E4', 'A3', 'C4', 'C1', 'B4', 'D1', 'C2', 'F3', 'D2', 'A2',\n",
              "       'B2', 'E1', 'B3', 'A4', 'B1', 'D3', 'C3', 'A5'], dtype=object)"
            ]
          },
          "metadata": {},
          "execution_count": 72
        }
      ]
    },
    {
      "cell_type": "markdown",
      "source": [
        "'Grade'와 'SubGrade'를 사용하여 두 categorical feature를 하나의 numerical feature로 통합한 'FinalGrade' 열을 생성합니다. 'FinalGrade' 열은 다음과 같은 규칙으로 생성됩니다. <br>\n",
        "* 'Grade'는 A부터 G까지 7까지의 등급을 가지고 있습니다. 'Grade'가 A로 시작하면 700, B로 시작하면 600, ..., G로 시작하면 100을 부여합니다.\n",
        "* 'SubGrade'는 A부터 G까지 7까지의 등급을 가지고 있습니다. 'SubGrade'가 A로 시작하면 70, B로 시작하면 60, ..., G로 시작하면 10을 부여합니다. 'SubGrade'의 두 번째 자리(숫자 부분)를 앞에서 구한 정수값과 더한 값이 최종 'SubGrade'의 값입니다.\n",
        "* 'FinalGrade'는 각 'Grade'와 'SubGrade' 값을 더한 값입니다.\n",
        "* 예시) Grade: A, SubGrade: A4\n",
        "      A => 700, A4 => 70 + 4\n",
        "      Final Grade = 774"
      ],
      "metadata": {
        "id": "nIzU8K5VtQkX"
      }
    },
    {
      "cell_type": "markdown",
      "source": [
        "### 문제 4-1\n",
        "주어진 list num과 label, di를 사용하여 'SubGrade' 값을 정수로 바꾸는 ```def subGradeEncoder```를 구현하고 코드와 셀 실행 결과를 모두 캡처하여 보고서에 첨부하세요."
      ],
      "metadata": {
        "id": "YC_eXpEdyedl"
      }
    },
    {
      "cell_type": "code",
      "source": [
        "num = [10, 20, 30, 40, 50, 60, 70]\n",
        "label = ['G', 'F', 'E', 'D', 'C', 'B', 'A']\n",
        "di = dict(zip(label, num))\n",
        "\n",
        "def subGradeEncoder(data, di):\n",
        "  result = []\n",
        "  ################ 문제 4-1 ##################\n",
        "  # 소스코드를 입력하고 캡처 후 보고서에 업로드하세요.\n",
        "  # 코드 시작과 코드 끝 라인을 삭제하지 마세요.\n",
        "  ################ 코드 시작  ################\n",
        "  for subg in data['SubGrade']: # SubGrade 열의 원소를 subg 변수에 넣어 반복\n",
        "    subgrade = di[subg[0]] + int(subg[1]) # 알파벳인 첫번째 원소를 di에 넣어 대응되는 숫자로 바꾸고 뒤 수를 int형으로 바꿔 더함\n",
        "    result.append(subgrade) # 더한 값을 result에 추가\n",
        "\n",
        "  ################ 코드 끝  ##################\n",
        "  return result\n",
        "\n",
        "data['SubGrade'] = subGradeEncoder(data, di)\n",
        "print(data['SubGrade'])"
      ],
      "metadata": {
        "id": "wjAf2oOqvsrp",
        "colab": {
          "base_uri": "https://localhost:8080/",
          "height": 229
        },
        "outputId": "bfac4e74-d264-4e39-bc09-34e9b423f3b7"
      },
      "execution_count": null,
      "outputs": [
        {
          "output_type": "error",
          "ename": "NameError",
          "evalue": "ignored",
          "traceback": [
            "\u001b[0;31m---------------------------------------------------------------------------\u001b[0m",
            "\u001b[0;31mNameError\u001b[0m                                 Traceback (most recent call last)",
            "\u001b[0;32m<ipython-input-3-bc41861e7039>\u001b[0m in \u001b[0;36m<module>\u001b[0;34m\u001b[0m\n\u001b[1;32m     16\u001b[0m   \u001b[0;32mreturn\u001b[0m \u001b[0mresult\u001b[0m\u001b[0;34m\u001b[0m\u001b[0;34m\u001b[0m\u001b[0m\n\u001b[1;32m     17\u001b[0m \u001b[0;34m\u001b[0m\u001b[0m\n\u001b[0;32m---> 18\u001b[0;31m \u001b[0mdata\u001b[0m\u001b[0;34m[\u001b[0m\u001b[0;34m'SubGrade'\u001b[0m\u001b[0;34m]\u001b[0m \u001b[0;34m=\u001b[0m \u001b[0msubGradeEncoder\u001b[0m\u001b[0;34m(\u001b[0m\u001b[0mdata\u001b[0m\u001b[0;34m,\u001b[0m \u001b[0mdi\u001b[0m\u001b[0;34m)\u001b[0m\u001b[0;34m\u001b[0m\u001b[0;34m\u001b[0m\u001b[0m\n\u001b[0m\u001b[1;32m     19\u001b[0m \u001b[0mprint\u001b[0m\u001b[0;34m(\u001b[0m\u001b[0mdata\u001b[0m\u001b[0;34m[\u001b[0m\u001b[0;34m'SubGrade'\u001b[0m\u001b[0;34m]\u001b[0m\u001b[0;34m)\u001b[0m\u001b[0;34m\u001b[0m\u001b[0;34m\u001b[0m\u001b[0m\n",
            "\u001b[0;31mNameError\u001b[0m: name 'data' is not defined"
          ]
        }
      ]
    },
    {
      "cell_type": "markdown",
      "source": [
        "### 문제 4-2\n",
        "주어진 list num과 label, di를 사용하여 'Grade' 값을 정수로 바꾸는 ```def gradeEncoder```를 구현하고 코드와 셀 실행 결과를 모두 캡처하여 보고서에 첨부하세요."
      ],
      "metadata": {
        "id": "bRChqSc_yyB8"
      }
    },
    {
      "cell_type": "code",
      "source": [
        "num = [100, 200, 300, 400, 500, 600, 700]\n",
        "label = ['G', 'F', 'E', 'D', 'C', 'B', 'A']\n",
        "di = dict(zip(label, num))\n",
        "\n",
        "def gradeEncoder(data, di):\n",
        "  result = []\n",
        "  ################ 문제 4-2 ##################\n",
        "  # 소스코드를 입력하고 캡처 후 보고서에 업로드하세요.\n",
        "  # 코드 시작과 코드 끝 라인을 삭제하지 마세요.\n",
        "  ################ 코드 시작  ################\n",
        "  for gra in data['Grade']: # Grade 열의 원소를 gra 변수에 넣어 반복\n",
        "    grade = di[gra[0]] # 알파벳인 원소를 di에 넣어 대응되는 숫자로 바꿈\n",
        "    result.append(grade) # 값을 result에 추가\n",
        "\n",
        "  ################ 코드 끝  ##################\n",
        "  return result\n",
        "\n",
        "data['Grade'] = gradeEncoder(data, di)\n",
        "print(data['Grade'])"
      ],
      "metadata": {
        "id": "p4TTeuHWxe9M",
        "colab": {
          "base_uri": "https://localhost:8080/",
          "height": 229
        },
        "outputId": "a485223c-0f46-4825-83aa-465fb124b78e"
      },
      "execution_count": null,
      "outputs": [
        {
          "output_type": "error",
          "ename": "NameError",
          "evalue": "ignored",
          "traceback": [
            "\u001b[0;31m---------------------------------------------------------------------------\u001b[0m",
            "\u001b[0;31mNameError\u001b[0m                                 Traceback (most recent call last)",
            "\u001b[0;32m<ipython-input-2-d8b14cf770c1>\u001b[0m in \u001b[0;36m<module>\u001b[0;34m\u001b[0m\n\u001b[1;32m     16\u001b[0m   \u001b[0;32mreturn\u001b[0m \u001b[0mresult\u001b[0m\u001b[0;34m\u001b[0m\u001b[0;34m\u001b[0m\u001b[0m\n\u001b[1;32m     17\u001b[0m \u001b[0;34m\u001b[0m\u001b[0m\n\u001b[0;32m---> 18\u001b[0;31m \u001b[0mdata\u001b[0m\u001b[0;34m[\u001b[0m\u001b[0;34m'Grade'\u001b[0m\u001b[0;34m]\u001b[0m \u001b[0;34m=\u001b[0m \u001b[0mgradeEncoder\u001b[0m\u001b[0;34m(\u001b[0m\u001b[0mdata\u001b[0m\u001b[0;34m,\u001b[0m \u001b[0mdi\u001b[0m\u001b[0;34m)\u001b[0m\u001b[0;34m\u001b[0m\u001b[0;34m\u001b[0m\u001b[0m\n\u001b[0m\u001b[1;32m     19\u001b[0m \u001b[0mprint\u001b[0m\u001b[0;34m(\u001b[0m\u001b[0mdata\u001b[0m\u001b[0;34m[\u001b[0m\u001b[0;34m'Grade'\u001b[0m\u001b[0;34m]\u001b[0m\u001b[0;34m)\u001b[0m\u001b[0;34m\u001b[0m\u001b[0;34m\u001b[0m\u001b[0m\n",
            "\u001b[0;31mNameError\u001b[0m: name 'data' is not defined"
          ]
        }
      ]
    },
    {
      "cell_type": "markdown",
      "source": [
        "### 문제 4-3\n",
        "'Sub Grade' 열의 값과 'Grade' 값을 합하여 최종적인 'Grade' 값을 담은 ```Final Grade```라는 열을 생성하고 코드와 셀 실행 결과를 모두 캡처하여 보고서에 첨부하세요."
      ],
      "metadata": {
        "id": "0juLQab7zCF7"
      }
    },
    {
      "cell_type": "code",
      "source": [
        "### 문제 4-3 ###\n",
        "# 소스코드를 입력하고 캡처 후 보고서에 업로드하세요.\n",
        "# 코드 시작과 코드 끝 라인을 삭제하지 마세요.\n",
        "### 코드 시작 ##\n",
        "subnum = [10, 20, 30, 40, 50, 60, 70]\n",
        "sublabel = ['G', 'F', 'E', 'D', 'C', 'B', 'A']\n",
        "sub_di = dict(zip(sublabel, subnum))\n",
        "\n",
        "num = [100, 200, 300, 400, 500, 600, 700]\n",
        "label = ['G', 'F', 'E', 'D', 'C', 'B', 'A']\n",
        "di = dict(zip(label, num))\n",
        "\n",
        "data['SubGrade num'] = subGradeEncoder(data,sub_di)\n",
        "\n",
        "data['Grade num'] = gradeEncoder(data, di)\n",
        "\n",
        "data['FinalGrade'] = data['SubGrade num'] + data['Grade num']\n",
        "\n",
        "################\n",
        "print(data['FinalGrade'])"
      ],
      "metadata": {
        "id": "0KwjcVbezXDb",
        "colab": {
          "base_uri": "https://localhost:8080/",
          "height": 248
        },
        "outputId": "995c4b48-4c40-45c7-e79e-dad503c68213"
      },
      "execution_count": null,
      "outputs": [
        {
          "output_type": "error",
          "ename": "NameError",
          "evalue": "ignored",
          "traceback": [
            "\u001b[0;31m---------------------------------------------------------------------------\u001b[0m",
            "\u001b[0;31mNameError\u001b[0m                                 Traceback (most recent call last)",
            "\u001b[0;32m<ipython-input-1-4029d92687b2>\u001b[0m in \u001b[0;36m<module>\u001b[0;34m\u001b[0m\n\u001b[1;32m     11\u001b[0m \u001b[0mdi\u001b[0m \u001b[0;34m=\u001b[0m \u001b[0mdict\u001b[0m\u001b[0;34m(\u001b[0m\u001b[0mzip\u001b[0m\u001b[0;34m(\u001b[0m\u001b[0mlabel\u001b[0m\u001b[0;34m,\u001b[0m \u001b[0mnum\u001b[0m\u001b[0;34m)\u001b[0m\u001b[0;34m)\u001b[0m\u001b[0;34m\u001b[0m\u001b[0;34m\u001b[0m\u001b[0m\n\u001b[1;32m     12\u001b[0m \u001b[0;34m\u001b[0m\u001b[0m\n\u001b[0;32m---> 13\u001b[0;31m \u001b[0mdata\u001b[0m\u001b[0;34m[\u001b[0m\u001b[0;34m'FinalGrade'\u001b[0m\u001b[0;34m]\u001b[0m \u001b[0;34m=\u001b[0m \u001b[0msubGradeEncoder\u001b[0m\u001b[0;34m(\u001b[0m\u001b[0mdata\u001b[0m\u001b[0;34m,\u001b[0m\u001b[0msub_di\u001b[0m\u001b[0;34m)\u001b[0m \u001b[0;34m+\u001b[0m \u001b[0mgradeEncoder\u001b[0m\u001b[0;34m(\u001b[0m\u001b[0mdata\u001b[0m\u001b[0;34m,\u001b[0m \u001b[0mdi\u001b[0m\u001b[0;34m)\u001b[0m\u001b[0;34m\u001b[0m\u001b[0;34m\u001b[0m\u001b[0m\n\u001b[0m\u001b[1;32m     14\u001b[0m \u001b[0;34m\u001b[0m\u001b[0m\n\u001b[1;32m     15\u001b[0m \u001b[0;31m################\u001b[0m\u001b[0;34m\u001b[0m\u001b[0;34m\u001b[0m\u001b[0m\n",
            "\u001b[0;31mNameError\u001b[0m: name 'subGradeEncoder' is not defined"
          ]
        }
      ]
    },
    {
      "cell_type": "code",
      "source": [
        "data = data.drop(labels = ['Grade', 'SubGrade'], axis=1)"
      ],
      "metadata": {
        "id": "b41995Z2VT7s"
      },
      "execution_count": null,
      "outputs": []
    },
    {
      "cell_type": "markdown",
      "source": [
        "## 문제 5\n",
        "문제 5 는 보고서에 출제되어있습니다. 보고서에 답안을 작성해주세요."
      ],
      "metadata": {
        "id": "WKkKBoDTO2L0"
      }
    }
  ],
  "metadata": {
    "kernelspec": {
      "display_name": "Python 3 (ipykernel)",
      "language": "python",
      "name": "python3"
    },
    "language_info": {
      "codemirror_mode": {
        "name": "ipython",
        "version": 3
      },
      "file_extension": ".py",
      "mimetype": "text/x-python",
      "name": "python",
      "nbconvert_exporter": "python",
      "pygments_lexer": "ipython3",
      "version": "3.9.13"
    },
    "colab": {
      "provenance": [],
      "include_colab_link": true
    },
    "accelerator": "GPU",
    "gpuClass": "standard"
  },
  "nbformat": 4,
  "nbformat_minor": 0
}