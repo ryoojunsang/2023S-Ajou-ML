{
  "cells": [
    {
      "cell_type": "markdown",
      "metadata": {
        "id": "view-in-github",
        "colab_type": "text"
      },
      "source": [
        "<a href=\"https://colab.research.google.com/github/ryoojunsang/2023S-Ajou-ML/blob/main/Pytorch_tutorial.ipynb\" target=\"_parent\"><img src=\"https://colab.research.google.com/assets/colab-badge.svg\" alt=\"Open In Colab\"/></a>"
      ]
    },
    {
      "cell_type": "markdown",
      "metadata": {
        "id": "YFqw3KByKKFf"
      },
      "source": [
        "### 출처 : https://github.com/deeplearningzerotoall/PyTorch"
      ]
    },
    {
      "cell_type": "markdown",
      "metadata": {
        "id": "ZM7Obdv1KKFh"
      },
      "source": [
        "## Imports"
      ]
    },
    {
      "cell_type": "code",
      "execution_count": null,
      "metadata": {
        "id": "rJkA_rD8KKFh"
      },
      "outputs": [],
      "source": [
        "import numpy as np\n",
        "import torch"
      ]
    },
    {
      "cell_type": "markdown",
      "metadata": {
        "id": "wezmNSW7KKFh"
      },
      "source": [
        "<br>"
      ]
    },
    {
      "cell_type": "markdown",
      "metadata": {
        "id": "Dm4KchzaKKFi"
      },
      "source": [
        "## NumPy Review"
      ]
    },
    {
      "cell_type": "markdown",
      "metadata": {
        "id": "9DUK3mvYKKFi"
      },
      "source": [
        "We hope that you are familiar with `numpy` and basic linear algebra."
      ]
    },
    {
      "cell_type": "markdown",
      "metadata": {
        "id": "rGe-S-J7KKFi"
      },
      "source": [
        "### 1D Array with NumPy"
      ]
    },
    {
      "cell_type": "code",
      "execution_count": null,
      "metadata": {
        "id": "z6TV0qMuKKFi",
        "outputId": "82cf2070-b948-4557-b872-60fcc91f1488"
      },
      "outputs": [
        {
          "name": "stdout",
          "output_type": "stream",
          "text": [
            "[ 0.  1.  2.  3.  4.  5.  6.]\n"
          ]
        }
      ],
      "source": [
        "t = np.array([0., 1., 2., 3., 4., 5., 6.])\n",
        "print(t)"
      ]
    },
    {
      "cell_type": "code",
      "execution_count": null,
      "metadata": {
        "id": "dGwNVsRJKKFj",
        "outputId": "b433bcf7-b21e-44e3-f2c5-d4246bd1adfc"
      },
      "outputs": [
        {
          "name": "stdout",
          "output_type": "stream",
          "text": [
            "Rank  of t:  1\n",
            "Shape of t:  (7,)\n"
          ]
        }
      ],
      "source": [
        "print('Rank  of t: ', t.ndim)\n",
        "print('Shape of t: ', t.shape)"
      ]
    },
    {
      "cell_type": "code",
      "execution_count": null,
      "metadata": {
        "id": "Q73r7MTqKKFj",
        "outputId": "c950c00d-d85f-462c-87aa-743974e5532f"
      },
      "outputs": [
        {
          "name": "stdout",
          "output_type": "stream",
          "text": [
            "t[0] t[1] t[-1] =  0.0 1.0 6.0\n",
            "t[2:5] t[4:-1]  =  [ 2.  3.  4.] [ 4.  5.]\n",
            "t[:2] t[3:]     =  [ 0.  1.] [ 3.  4.  5.  6.]\n"
          ]
        }
      ],
      "source": [
        "print('t[0] t[1] t[-1] = ', t[0], t[1], t[-1]) # Element\n",
        "print('t[2:5] t[4:-1]  = ', t[2:5], t[4:-1])   # Slicing\n",
        "print('t[:2] t[3:]     = ', t[:2], t[3:])      # Slicing"
      ]
    },
    {
      "cell_type": "markdown",
      "metadata": {
        "id": "vghbFKPNKKFj"
      },
      "source": [
        "### 2D Array with NumPy"
      ]
    },
    {
      "cell_type": "code",
      "execution_count": null,
      "metadata": {
        "id": "FwLpQWnhKKFj",
        "outputId": "d17db9ed-b9a6-4cfb-a8d5-da9d2a46d7c9"
      },
      "outputs": [
        {
          "name": "stdout",
          "output_type": "stream",
          "text": [
            "[[  1.   2.   3.]\n",
            " [  4.   5.   6.]\n",
            " [  7.   8.   9.]\n",
            " [ 10.  11.  12.]]\n"
          ]
        }
      ],
      "source": [
        "t = np.array([[1., 2., 3.], [4., 5., 6.], [7., 8., 9.], [10., 11., 12.]])\n",
        "print(t)"
      ]
    },
    {
      "cell_type": "code",
      "execution_count": null,
      "metadata": {
        "id": "aphasjOVKKFj",
        "outputId": "381121db-02a6-4ad3-b50a-07d30edaed46"
      },
      "outputs": [
        {
          "name": "stdout",
          "output_type": "stream",
          "text": [
            "Rank  of t:  2\n",
            "Shape of t:  (4, 3)\n"
          ]
        }
      ],
      "source": [
        "print('Rank  of t: ', t.ndim)\n",
        "print('Shape of t: ', t.shape)"
      ]
    },
    {
      "cell_type": "markdown",
      "metadata": {
        "id": "Yue6SWt1KKFk"
      },
      "source": [
        "## PyTorch is like NumPy (but better)"
      ]
    },
    {
      "cell_type": "markdown",
      "metadata": {
        "id": "DN_Ci15hKKFk"
      },
      "source": [
        "### 1D Array with PyTorch"
      ]
    },
    {
      "cell_type": "code",
      "execution_count": null,
      "metadata": {
        "id": "IgjU0SvCKKFk",
        "outputId": "32cf4586-1a29-4cb4-e1fb-55e13b4877d0"
      },
      "outputs": [
        {
          "name": "stdout",
          "output_type": "stream",
          "text": [
            "tensor([0., 1., 2., 3., 4., 5., 6.])\n"
          ]
        }
      ],
      "source": [
        "t = torch.FloatTensor([0., 1., 2., 3., 4., 5., 6.])\n",
        "print(t)"
      ]
    },
    {
      "cell_type": "code",
      "execution_count": null,
      "metadata": {
        "scrolled": true,
        "id": "wnKGteGJKKFk",
        "outputId": "0ec94c8f-0d1c-4a85-c047-777278be7003"
      },
      "outputs": [
        {
          "name": "stdout",
          "output_type": "stream",
          "text": [
            "1\n",
            "torch.Size([7])\n",
            "torch.Size([7])\n",
            "tensor(0.) tensor(1.) tensor(6.)\n",
            "tensor([2., 3., 4.]) tensor([4., 5.])\n",
            "tensor([0., 1.]) tensor([3., 4., 5., 6.])\n"
          ]
        }
      ],
      "source": [
        "print(t.dim())  # rank\n",
        "print(t.shape)  # shape\n",
        "print(t.size()) # shape\n",
        "print(t[0], t[1], t[-1])  # Element\n",
        "print(t[2:5], t[4:-1])    # Slicing\n",
        "print(t[:2], t[3:])       # Slicing"
      ]
    },
    {
      "cell_type": "markdown",
      "metadata": {
        "id": "BnOG0YXLKKFk"
      },
      "source": [
        "### 2D Array with PyTorch"
      ]
    },
    {
      "cell_type": "code",
      "execution_count": null,
      "metadata": {
        "id": "Yj0StSawKKFk",
        "outputId": "bbae04c8-4b7c-4d39-ea72-4d8c65e9ae63"
      },
      "outputs": [
        {
          "name": "stdout",
          "output_type": "stream",
          "text": [
            "tensor([[ 1.,  2.,  3.],\n",
            "        [ 4.,  5.,  6.],\n",
            "        [ 7.,  8.,  9.],\n",
            "        [10., 11., 12.]])\n"
          ]
        }
      ],
      "source": [
        "t = torch.FloatTensor([[1., 2., 3.],\n",
        "                       [4., 5., 6.],\n",
        "                       [7., 8., 9.],\n",
        "                       [10., 11., 12.]\n",
        "                      ])\n",
        "print(t)"
      ]
    },
    {
      "cell_type": "code",
      "execution_count": null,
      "metadata": {
        "id": "J37BcnAeKKFk",
        "outputId": "e8565334-bd56-45b2-9efc-1877bd65cc34"
      },
      "outputs": [
        {
          "name": "stdout",
          "output_type": "stream",
          "text": [
            "2\n",
            "torch.Size([4, 3])\n",
            "tensor([ 2.,  5.,  8., 11.])\n",
            "torch.Size([4])\n",
            "tensor([[ 1.,  2.],\n",
            "        [ 4.,  5.],\n",
            "        [ 7.,  8.],\n",
            "        [10., 11.]])\n"
          ]
        }
      ],
      "source": [
        "print(t.dim())  # rank\n",
        "print(t.size()) # shape\n",
        "print(t[:, 1])\n",
        "print(t[:, 1].size())\n",
        "print(t[:, :-1])"
      ]
    },
    {
      "cell_type": "markdown",
      "metadata": {
        "id": "so5dZd7yKKFl"
      },
      "source": [
        "### Shape, Rank, Axis"
      ]
    },
    {
      "cell_type": "code",
      "execution_count": null,
      "metadata": {
        "id": "LBpXX0lGKKFl"
      },
      "outputs": [],
      "source": [
        "t = torch.FloatTensor([[[[1, 2, 3, 4],\n",
        "                         [5, 6, 7, 8],\n",
        "                         [9, 10, 11, 12]],\n",
        "                       [[13, 14, 15, 16],\n",
        "                        [17, 18, 19, 20],\n",
        "                        [21, 22, 23, 24]]\n",
        "                       ]])"
      ]
    },
    {
      "cell_type": "code",
      "execution_count": null,
      "metadata": {
        "id": "jqg7kDuoKKFl",
        "outputId": "1663b0f3-323e-45d2-c266-ea80ed3894be"
      },
      "outputs": [
        {
          "name": "stdout",
          "output_type": "stream",
          "text": [
            "4\n",
            "torch.Size([1, 2, 3, 4])\n"
          ]
        }
      ],
      "source": [
        "print(t.dim())  # rank  = 4\n",
        "print(t.size()) # shape = (1, 2, 3, 4)"
      ]
    },
    {
      "cell_type": "markdown",
      "metadata": {
        "id": "DeWW0Fe-KKFl"
      },
      "source": [
        "## Frequently Used Operations in PyTorch"
      ]
    },
    {
      "cell_type": "markdown",
      "metadata": {
        "id": "u8PaDdTwKKFl"
      },
      "source": [
        "### Mul vs. Matmul"
      ]
    },
    {
      "cell_type": "code",
      "execution_count": null,
      "metadata": {
        "id": "6U66LrpxKKFl",
        "outputId": "1e83b41e-fd75-47dd-c50c-34165179a43d"
      },
      "outputs": [
        {
          "name": "stdout",
          "output_type": "stream",
          "text": [
            "\n",
            "-------------\n",
            "Mul vs Matmul\n",
            "-------------\n",
            "Shape of Matrix 1:  torch.Size([2, 2])\n",
            "Shape of Matrix 2:  torch.Size([2, 1])\n",
            "tensor([[ 5.],\n",
            "        [11.]])\n",
            "Shape of Matrix 1:  torch.Size([2, 2])\n",
            "Shape of Matrix 2:  torch.Size([2, 1])\n",
            "tensor([[1., 2.],\n",
            "        [6., 8.]])\n",
            "tensor([[1., 2.],\n",
            "        [6., 8.]])\n"
          ]
        }
      ],
      "source": [
        "print()\n",
        "print('-------------')\n",
        "print('Mul vs Matmul')\n",
        "print('-------------')\n",
        "m1 = torch.FloatTensor([[1, 2], [3, 4]])\n",
        "m2 = torch.FloatTensor([[1], [2]])\n",
        "print('Shape of Matrix 1: ', m1.shape) # 2 x 2\n",
        "print('Shape of Matrix 2: ', m2.shape) # 2 x 1\n",
        "print(m1.matmul(m2)) # 2 x 1\n",
        "\n",
        "m1 = torch.FloatTensor([[1, 2], [3, 4]])\n",
        "m2 = torch.FloatTensor([[1], [2]])\n",
        "print('Shape of Matrix 1: ', m1.shape) # 2 x 2\n",
        "print('Shape of Matrix 2: ', m2.shape) # 2 x 1\n",
        "print(m1 * m2) # 2 x 2\n",
        "print(m1.mul(m2))"
      ]
    },
    {
      "cell_type": "markdown",
      "metadata": {
        "id": "UK1ObDoRKKFl"
      },
      "source": [
        "### Broadcasting"
      ]
    },
    {
      "cell_type": "markdown",
      "metadata": {
        "id": "jIQX3Y1pKKFl"
      },
      "source": [
        "\n",
        "* Carelessly using broadcasting can lead to code hard to debug.\n"
      ]
    },
    {
      "cell_type": "code",
      "execution_count": null,
      "metadata": {
        "id": "0umLMO73KKFm",
        "outputId": "f7ecb9e9-73c7-4099-89ea-c62f63177ab1"
      },
      "outputs": [
        {
          "name": "stdout",
          "output_type": "stream",
          "text": [
            "tensor([[5., 5.]])\n"
          ]
        }
      ],
      "source": [
        "# Same shape\n",
        "m1 = torch.FloatTensor([[3, 3]])\n",
        "m2 = torch.FloatTensor([[2, 2]])\n",
        "print(m1 + m2)"
      ]
    },
    {
      "cell_type": "code",
      "execution_count": null,
      "metadata": {
        "id": "bH-gEmMXKKFm",
        "outputId": "3946cfe2-16c9-4ec4-bfd9-ff6073fade93"
      },
      "outputs": [
        {
          "name": "stdout",
          "output_type": "stream",
          "text": [
            "tensor([[4., 5.]])\n"
          ]
        }
      ],
      "source": [
        "# Vector + scalar\n",
        "m1 = torch.FloatTensor([[1, 2]])\n",
        "m2 = torch.FloatTensor([3]) # 3 -> [[3, 3]]\n",
        "print(m1 + m2)"
      ]
    },
    {
      "cell_type": "code",
      "execution_count": null,
      "metadata": {
        "id": "v3dZd8yrKKFm",
        "outputId": "b8ba456d-48eb-49d0-e5b7-115bfc9924ae"
      },
      "outputs": [
        {
          "name": "stdout",
          "output_type": "stream",
          "text": [
            "tensor([[4., 5.],\n",
            "        [5., 6.]])\n"
          ]
        }
      ],
      "source": [
        "# 2 x 1 Vector + 1 x 2 Vector\n",
        "m1 = torch.FloatTensor([[1, 2]])\n",
        "m2 = torch.FloatTensor([[3], [4]])\n",
        "print(m1 + m2)"
      ]
    },
    {
      "cell_type": "markdown",
      "metadata": {
        "id": "HRk1NxOjKKFm"
      },
      "source": [
        "### Mean"
      ]
    },
    {
      "cell_type": "code",
      "execution_count": null,
      "metadata": {
        "id": "f1z8mzQmKKFm",
        "outputId": "91c35c43-cf9f-4340-9fad-3fd85bd73697"
      },
      "outputs": [
        {
          "name": "stdout",
          "output_type": "stream",
          "text": [
            "tensor(1.5000)\n"
          ]
        }
      ],
      "source": [
        "t = torch.FloatTensor([1, 2])\n",
        "print(t.mean())"
      ]
    },
    {
      "cell_type": "code",
      "execution_count": null,
      "metadata": {
        "id": "jXBsrTzOKKFm",
        "outputId": "0b2b83a6-41dd-4880-f968-364d8533c204"
      },
      "outputs": [
        {
          "name": "stdout",
          "output_type": "stream",
          "text": [
            "Can only calculate the mean of floating types. Got Long instead.\n"
          ]
        }
      ],
      "source": [
        "# Can't use mean() on integers\n",
        "t = torch.LongTensor([1, 2])\n",
        "try:\n",
        "    print(t.mean())\n",
        "except Exception as exc:\n",
        "    print(exc)"
      ]
    },
    {
      "cell_type": "markdown",
      "metadata": {
        "id": "sRVW9afNKKFm"
      },
      "source": [
        "You can also use `t.mean` for higher rank tensors to get mean of all elements, or mean by particular dimension."
      ]
    },
    {
      "cell_type": "code",
      "execution_count": null,
      "metadata": {
        "id": "YslbFShSKKFm",
        "outputId": "094c9bea-c889-4208-8bea-b88e2a1a1671"
      },
      "outputs": [
        {
          "name": "stdout",
          "output_type": "stream",
          "text": [
            "tensor([[1., 2.],\n",
            "        [3., 4.]])\n"
          ]
        }
      ],
      "source": [
        "t = torch.FloatTensor([[1, 2], [3, 4]])\n",
        "print(t)"
      ]
    },
    {
      "cell_type": "code",
      "execution_count": null,
      "metadata": {
        "id": "4MF_L66jKKFn",
        "outputId": "4ba6cc60-871e-469b-95e9-d51e9174bc07"
      },
      "outputs": [
        {
          "name": "stdout",
          "output_type": "stream",
          "text": [
            "tensor(2.5000)\n",
            "tensor([2., 3.])\n",
            "tensor([1.5000, 3.5000])\n",
            "tensor([1.5000, 3.5000])\n"
          ]
        }
      ],
      "source": [
        "print(t.mean())\n",
        "print(t.mean(dim=0))\n",
        "print(t.mean(dim=1))\n",
        "print(t.mean(dim=-1))"
      ]
    },
    {
      "cell_type": "markdown",
      "metadata": {
        "id": "z7yfCZ3jKKFn"
      },
      "source": [
        "### Sum"
      ]
    },
    {
      "cell_type": "code",
      "execution_count": null,
      "metadata": {
        "id": "CdlB_QJlKKFn",
        "outputId": "78ad3f08-ac64-4f4d-fffd-1d2e131d265c"
      },
      "outputs": [
        {
          "name": "stdout",
          "output_type": "stream",
          "text": [
            "tensor([[1., 2.],\n",
            "        [3., 4.]])\n"
          ]
        }
      ],
      "source": [
        "t = torch.FloatTensor([[1, 2], [3, 4]])\n",
        "print(t)"
      ]
    },
    {
      "cell_type": "code",
      "execution_count": null,
      "metadata": {
        "id": "kSVkRtllKKFn",
        "outputId": "48177469-f5e4-48ea-96db-b97f997e3f59"
      },
      "outputs": [
        {
          "name": "stdout",
          "output_type": "stream",
          "text": [
            "tensor(10.)\n",
            "tensor([4., 6.])\n",
            "tensor([3., 7.])\n",
            "tensor([3., 7.])\n"
          ]
        }
      ],
      "source": [
        "print(t.sum())\n",
        "print(t.sum(dim=0))\n",
        "print(t.sum(dim=1))\n",
        "print(t.sum(dim=-1))"
      ]
    },
    {
      "cell_type": "markdown",
      "metadata": {
        "id": "b89arCQvKKFn"
      },
      "source": [
        "### Max and Argmax"
      ]
    },
    {
      "cell_type": "code",
      "execution_count": null,
      "metadata": {
        "id": "gMuX03u7KKFn",
        "outputId": "a537fd04-fdef-47ca-95a0-b35aa9c92856"
      },
      "outputs": [
        {
          "name": "stdout",
          "output_type": "stream",
          "text": [
            "tensor([[1., 2.],\n",
            "        [3., 4.]])\n"
          ]
        }
      ],
      "source": [
        "t = torch.FloatTensor([[1, 2], [3, 4]])\n",
        "print(t)"
      ]
    },
    {
      "cell_type": "markdown",
      "metadata": {
        "id": "InPO-2lrKKFn"
      },
      "source": [
        "The `max` operator returns one value if it is called without an argument."
      ]
    },
    {
      "cell_type": "code",
      "execution_count": null,
      "metadata": {
        "id": "phXaSIOnKKFn",
        "outputId": "c6fe28ea-2773-4bcd-91dc-21fceaba63da"
      },
      "outputs": [
        {
          "name": "stdout",
          "output_type": "stream",
          "text": [
            "tensor(4.)\n"
          ]
        }
      ],
      "source": [
        "print(t.max()) # Returns one value: max"
      ]
    },
    {
      "cell_type": "markdown",
      "metadata": {
        "id": "WyNGHrh6KKFn"
      },
      "source": [
        "The `max` operator returns 2 values when called with dimension specified. The first value is the maximum value, and the second value is the argmax: the index of the element with maximum value."
      ]
    },
    {
      "cell_type": "code",
      "execution_count": null,
      "metadata": {
        "id": "mMR_WMrFKKFn",
        "outputId": "ca57cc88-8a59-4d21-ec2b-5a0fc83cbba1"
      },
      "outputs": [
        {
          "name": "stdout",
          "output_type": "stream",
          "text": [
            "(tensor([3., 4.]), tensor([1, 1]))\n",
            "Max:  tensor([3., 4.])\n",
            "Argmax:  tensor([1, 1])\n"
          ]
        }
      ],
      "source": [
        "print(t.max(dim=0)) # Returns two values: max and argmax\n",
        "print('Max: ', t.max(dim=0)[0])\n",
        "print('Argmax: ', t.max(dim=0)[1])"
      ]
    },
    {
      "cell_type": "code",
      "execution_count": null,
      "metadata": {
        "id": "QtdUAGwsKKFo",
        "outputId": "dff97a05-9f58-43f2-8ce2-c86e25fb05ac"
      },
      "outputs": [
        {
          "name": "stdout",
          "output_type": "stream",
          "text": [
            "(tensor([2., 4.]), tensor([1, 1]))\n",
            "(tensor([2., 4.]), tensor([1, 1]))\n"
          ]
        }
      ],
      "source": [
        "print(t.max(dim=1))\n",
        "print(t.max(dim=-1))"
      ]
    },
    {
      "cell_type": "markdown",
      "metadata": {
        "id": "T2ZOLksHKKFo"
      },
      "source": [
        "### View"
      ]
    },
    {
      "cell_type": "markdown",
      "metadata": {
        "id": "BY8fy4x4KKFo"
      },
      "source": [
        "\n",
        "* This is a function hard to master, but is very useful!\n"
      ]
    },
    {
      "cell_type": "code",
      "execution_count": null,
      "metadata": {
        "id": "tROzcvnlKKFo",
        "outputId": "eab8b80a-2308-4961-ed45-d134187e3791"
      },
      "outputs": [
        {
          "name": "stdout",
          "output_type": "stream",
          "text": [
            "torch.Size([2, 2, 3])\n"
          ]
        }
      ],
      "source": [
        "t = np.array([[[0, 1, 2],\n",
        "               [3, 4, 5]],\n",
        "\n",
        "              [[6, 7, 8],\n",
        "               [9, 10, 11]]])\n",
        "ft = torch.FloatTensor(t)\n",
        "print(ft.shape)"
      ]
    },
    {
      "cell_type": "code",
      "execution_count": null,
      "metadata": {
        "id": "Fwf4gpwgKKFo",
        "outputId": "602b1aa6-393a-4ca5-e963-3a512205c123"
      },
      "outputs": [
        {
          "name": "stdout",
          "output_type": "stream",
          "text": [
            "tensor([[ 0.,  1.,  2.],\n",
            "        [ 3.,  4.,  5.],\n",
            "        [ 6.,  7.,  8.],\n",
            "        [ 9., 10., 11.]])\n",
            "torch.Size([4, 3])\n"
          ]
        }
      ],
      "source": [
        "print(ft.view([-1, 3]))\n",
        "print(ft.view([-1, 3]).shape)"
      ]
    },
    {
      "cell_type": "code",
      "execution_count": null,
      "metadata": {
        "id": "n54nu2kUKKFo",
        "outputId": "89d440a6-1ddb-47f7-860f-6f30b203ba70"
      },
      "outputs": [
        {
          "name": "stdout",
          "output_type": "stream",
          "text": [
            "tensor([[[ 0.,  1.,  2.]],\n",
            "\n",
            "        [[ 3.,  4.,  5.]],\n",
            "\n",
            "        [[ 6.,  7.,  8.]],\n",
            "\n",
            "        [[ 9., 10., 11.]]])\n",
            "torch.Size([4, 1, 3])\n"
          ]
        }
      ],
      "source": [
        "print(ft.view([-1, 1, 3]))\n",
        "print(ft.view([-1, 1, 3]).shape)"
      ]
    },
    {
      "cell_type": "markdown",
      "metadata": {
        "id": "ZCTPno3ZKKFo"
      },
      "source": [
        "### Squeeze"
      ]
    },
    {
      "cell_type": "code",
      "execution_count": null,
      "metadata": {
        "id": "VvLmovZhKKFo",
        "outputId": "76f88913-2e25-40a3-a221-63bdf7651b02"
      },
      "outputs": [
        {
          "name": "stdout",
          "output_type": "stream",
          "text": [
            "tensor([[0.],\n",
            "        [1.],\n",
            "        [2.]])\n",
            "torch.Size([3, 1])\n"
          ]
        }
      ],
      "source": [
        "ft = torch.FloatTensor([[0], [1], [2]])\n",
        "print(ft)\n",
        "print(ft.shape)"
      ]
    },
    {
      "cell_type": "code",
      "execution_count": null,
      "metadata": {
        "id": "DmLkNx4vKKFo",
        "outputId": "39f76962-1027-40c6-befa-2f0949701ef9"
      },
      "outputs": [
        {
          "name": "stdout",
          "output_type": "stream",
          "text": [
            "tensor([0., 1., 2.])\n",
            "torch.Size([3])\n"
          ]
        }
      ],
      "source": [
        "print(ft.squeeze())\n",
        "print(ft.squeeze().shape)"
      ]
    },
    {
      "cell_type": "markdown",
      "metadata": {
        "id": "8opv3zLbKKFo"
      },
      "source": [
        "### Unsqueeze"
      ]
    },
    {
      "cell_type": "code",
      "execution_count": null,
      "metadata": {
        "id": "8rR7Ywz8KKFp",
        "outputId": "407d3589-a542-4db8-e25e-31cdb8739a19"
      },
      "outputs": [
        {
          "name": "stdout",
          "output_type": "stream",
          "text": [
            "torch.Size([3])\n"
          ]
        }
      ],
      "source": [
        "ft = torch.Tensor([0, 1, 2])\n",
        "print(ft.shape)"
      ]
    },
    {
      "cell_type": "code",
      "execution_count": null,
      "metadata": {
        "id": "zafOn9PDKKFp",
        "outputId": "3c9f01bd-a47f-4a79-a9a9-f3e9a8d5c393"
      },
      "outputs": [
        {
          "name": "stdout",
          "output_type": "stream",
          "text": [
            "tensor([[0., 1., 2.]])\n",
            "torch.Size([1, 3])\n"
          ]
        }
      ],
      "source": [
        "print(ft.unsqueeze(0))\n",
        "print(ft.unsqueeze(0).shape)"
      ]
    },
    {
      "cell_type": "code",
      "execution_count": null,
      "metadata": {
        "id": "kHA3L9e6KKFp",
        "outputId": "700b84ee-1049-41ed-a6df-2ed72d092acc"
      },
      "outputs": [
        {
          "name": "stdout",
          "output_type": "stream",
          "text": [
            "tensor([[0., 1., 2.]])\n",
            "torch.Size([1, 3])\n"
          ]
        }
      ],
      "source": [
        "print(ft.view(1, -1))\n",
        "print(ft.view(1, -1).shape)"
      ]
    },
    {
      "cell_type": "code",
      "execution_count": null,
      "metadata": {
        "id": "dK1I-O5HKKFp",
        "outputId": "4b3ac797-9b91-4128-c507-68dba3d42029"
      },
      "outputs": [
        {
          "name": "stdout",
          "output_type": "stream",
          "text": [
            "tensor([[0.],\n",
            "        [1.],\n",
            "        [2.]])\n",
            "torch.Size([3, 1])\n"
          ]
        }
      ],
      "source": [
        "print(ft.unsqueeze(1))\n",
        "print(ft.unsqueeze(1).shape)"
      ]
    },
    {
      "cell_type": "code",
      "execution_count": null,
      "metadata": {
        "id": "YKegZ8U5KKFp",
        "outputId": "dadb2e04-606f-4f58-9ec3-246e3b95822e"
      },
      "outputs": [
        {
          "name": "stdout",
          "output_type": "stream",
          "text": [
            "tensor([[0.],\n",
            "        [1.],\n",
            "        [2.]])\n",
            "torch.Size([3, 1])\n"
          ]
        }
      ],
      "source": [
        "print(ft.unsqueeze(-1))\n",
        "print(ft.unsqueeze(-1).shape)"
      ]
    },
    {
      "cell_type": "markdown",
      "metadata": {
        "id": "cPfM287vKKFp"
      },
      "source": [
        "### Scatter (for one-hot encoding)"
      ]
    },
    {
      "cell_type": "markdown",
      "metadata": {
        "id": "Pxq-DFDZKKFp"
      },
      "source": [
        "\n",
        "* Scatter is a very flexible function. We only discuss how to use it to get a one-hot encoding of indices."
      ]
    },
    {
      "cell_type": "code",
      "execution_count": null,
      "metadata": {
        "id": "SiZ9HcmjKKFp",
        "outputId": "b78bf46a-5dd6-499e-a393-6664eb5897d0"
      },
      "outputs": [
        {
          "name": "stdout",
          "output_type": "stream",
          "text": [
            "tensor([[0],\n",
            "        [1],\n",
            "        [2],\n",
            "        [0]])\n"
          ]
        }
      ],
      "source": [
        "lt = torch.LongTensor([[0], [1], [2], [0]])\n",
        "print(lt)"
      ]
    },
    {
      "cell_type": "code",
      "execution_count": null,
      "metadata": {
        "id": "K9RolwltKKFp",
        "outputId": "61efd00b-7a59-4670-ddcc-bc8d6c3a0960"
      },
      "outputs": [
        {
          "name": "stdout",
          "output_type": "stream",
          "text": [
            "tensor([[1., 0., 0.],\n",
            "        [0., 1., 0.],\n",
            "        [0., 0., 1.],\n",
            "        [1., 0., 0.]])\n"
          ]
        }
      ],
      "source": [
        "one_hot = torch.zeros(4, 3) # batch_size = 4, classes = 3\n",
        "one_hot.scatter_(1, lt, 1)\n",
        "print(one_hot)"
      ]
    },
    {
      "cell_type": "markdown",
      "metadata": {
        "id": "mHfV5IVSKKFq"
      },
      "source": [
        "### Casting"
      ]
    },
    {
      "cell_type": "code",
      "execution_count": null,
      "metadata": {
        "id": "Ga4etGJrKKFq",
        "outputId": "6951d048-59f2-4ba6-eefe-66086cadedc4"
      },
      "outputs": [
        {
          "name": "stdout",
          "output_type": "stream",
          "text": [
            "tensor([1, 2, 3, 4])\n"
          ]
        }
      ],
      "source": [
        "lt = torch.LongTensor([1, 2, 3, 4])\n",
        "print(lt)"
      ]
    },
    {
      "cell_type": "code",
      "execution_count": null,
      "metadata": {
        "id": "AbzjhfKNKKFq",
        "outputId": "0e223691-6da9-4316-a5d4-0539bcf7a98c"
      },
      "outputs": [
        {
          "name": "stdout",
          "output_type": "stream",
          "text": [
            "tensor([1., 2., 3., 4.])\n"
          ]
        }
      ],
      "source": [
        "print(lt.float())"
      ]
    },
    {
      "cell_type": "code",
      "execution_count": null,
      "metadata": {
        "id": "yw2FypPzKKFq",
        "outputId": "2fa9a672-4d77-45e3-a2a1-36a5ac1a0168"
      },
      "outputs": [
        {
          "name": "stdout",
          "output_type": "stream",
          "text": [
            "tensor([1, 0, 0, 1], dtype=torch.uint8)\n"
          ]
        }
      ],
      "source": [
        "bt = torch.ByteTensor([True, False, False, True])\n",
        "print(bt)"
      ]
    },
    {
      "cell_type": "code",
      "execution_count": null,
      "metadata": {
        "id": "U7eAho8iKKFq",
        "outputId": "67f93abd-cd9c-4c8b-a37f-e6d4ec506989"
      },
      "outputs": [
        {
          "name": "stdout",
          "output_type": "stream",
          "text": [
            "tensor([1, 0, 0, 1])\n",
            "tensor([1., 0., 0., 1.])\n"
          ]
        }
      ],
      "source": [
        "print(bt.long())\n",
        "print(bt.float())"
      ]
    },
    {
      "cell_type": "markdown",
      "metadata": {
        "id": "Go9Bzux7KKFq"
      },
      "source": [
        "### Concatenation"
      ]
    },
    {
      "cell_type": "code",
      "execution_count": null,
      "metadata": {
        "id": "SUIq3dfZKKFq"
      },
      "outputs": [],
      "source": [
        "x = torch.FloatTensor([[1, 2], [3, 4]])\n",
        "y = torch.FloatTensor([[5, 6], [7, 8]])"
      ]
    },
    {
      "cell_type": "code",
      "execution_count": null,
      "metadata": {
        "id": "EWoscJRpKKFq",
        "outputId": "9a5903f6-61a5-46e0-ad78-56733857f7d7"
      },
      "outputs": [
        {
          "name": "stdout",
          "output_type": "stream",
          "text": [
            "tensor([[1., 2.],\n",
            "        [3., 4.],\n",
            "        [5., 6.],\n",
            "        [7., 8.]])\n",
            "tensor([[1., 2., 5., 6.],\n",
            "        [3., 4., 7., 8.]])\n"
          ]
        }
      ],
      "source": [
        "print(torch.cat([x, y], dim=0))\n",
        "print(torch.cat([x, y], dim=1))"
      ]
    },
    {
      "cell_type": "markdown",
      "metadata": {
        "id": "DBn1R07aKKFq"
      },
      "source": [
        "### Stacking"
      ]
    },
    {
      "cell_type": "code",
      "execution_count": null,
      "metadata": {
        "id": "7aycAPo-KKFq"
      },
      "outputs": [],
      "source": [
        "x = torch.FloatTensor([1, 4])\n",
        "y = torch.FloatTensor([2, 5])\n",
        "z = torch.FloatTensor([3, 6])"
      ]
    },
    {
      "cell_type": "code",
      "execution_count": null,
      "metadata": {
        "id": "ld-UrcLlKKFr",
        "outputId": "6af6bc0d-7931-48e0-9db1-ffaec67694a2"
      },
      "outputs": [
        {
          "name": "stdout",
          "output_type": "stream",
          "text": [
            "tensor([[1., 4.],\n",
            "        [2., 5.],\n",
            "        [3., 6.]])\n",
            "tensor([[1., 2., 3.],\n",
            "        [4., 5., 6.]])\n"
          ]
        }
      ],
      "source": [
        "print(torch.stack([x, y, z]))\n",
        "print(torch.stack([x, y, z], dim=1))"
      ]
    },
    {
      "cell_type": "code",
      "execution_count": null,
      "metadata": {
        "id": "O8emMP2FKKFr",
        "outputId": "1e218c35-6b01-4966-95cf-68ea7d9b63eb"
      },
      "outputs": [
        {
          "name": "stdout",
          "output_type": "stream",
          "text": [
            "tensor([[1., 4.],\n",
            "        [2., 5.],\n",
            "        [3., 6.]])\n"
          ]
        }
      ],
      "source": [
        "print(torch.cat([x.unsqueeze(0), y.unsqueeze(0), z.unsqueeze(0)], dim=0))"
      ]
    },
    {
      "cell_type": "markdown",
      "metadata": {
        "id": "UlKc5kLuKKFr"
      },
      "source": [
        "### Ones and Zeros Like"
      ]
    },
    {
      "cell_type": "code",
      "execution_count": null,
      "metadata": {
        "id": "JpbjjQmUKKFr",
        "outputId": "3996706d-8eee-424f-a2a9-ad3a83239f91"
      },
      "outputs": [
        {
          "name": "stdout",
          "output_type": "stream",
          "text": [
            "tensor([[0., 1., 2.],\n",
            "        [2., 1., 0.]])\n"
          ]
        }
      ],
      "source": [
        "x = torch.FloatTensor([[0, 1, 2], [2, 1, 0]])\n",
        "print(x)"
      ]
    },
    {
      "cell_type": "code",
      "execution_count": null,
      "metadata": {
        "id": "eFjvKnWHKKFr",
        "outputId": "77b764b0-7d1a-4ee7-87fa-376dfb24378d"
      },
      "outputs": [
        {
          "name": "stdout",
          "output_type": "stream",
          "text": [
            "tensor([[1., 1., 1.],\n",
            "        [1., 1., 1.]])\n",
            "tensor([[0., 0., 0.],\n",
            "        [0., 0., 0.]])\n"
          ]
        }
      ],
      "source": [
        "print(torch.ones_like(x))\n",
        "print(torch.zeros_like(x))"
      ]
    },
    {
      "cell_type": "markdown",
      "metadata": {
        "id": "e_Jt7yuXKKFr"
      },
      "source": [
        "### In-place Operation"
      ]
    },
    {
      "cell_type": "code",
      "execution_count": null,
      "metadata": {
        "id": "bzXY1ieIKKFr"
      },
      "outputs": [],
      "source": [
        "x = torch.FloatTensor([[1, 2], [3, 4]])"
      ]
    },
    {
      "cell_type": "code",
      "execution_count": null,
      "metadata": {
        "id": "UC9PIjOdKKFr",
        "outputId": "8a537271-d20f-438f-c193-23f2185c67a0"
      },
      "outputs": [
        {
          "name": "stdout",
          "output_type": "stream",
          "text": [
            "tensor([[2., 4.],\n",
            "        [6., 8.]])\n",
            "tensor([[1., 2.],\n",
            "        [3., 4.]])\n",
            "tensor([[2., 4.],\n",
            "        [6., 8.]])\n",
            "tensor([[2., 4.],\n",
            "        [6., 8.]])\n"
          ]
        }
      ],
      "source": [
        "print(x.mul(2.))\n",
        "print(x)\n",
        "print(x.mul_(2.))\n",
        "print(x)"
      ]
    }
  ],
  "metadata": {
    "kernelspec": {
      "display_name": "Python 3",
      "language": "python",
      "name": "python3"
    },
    "language_info": {
      "codemirror_mode": {
        "name": "ipython",
        "version": 3
      },
      "file_extension": ".py",
      "mimetype": "text/x-python",
      "name": "python",
      "nbconvert_exporter": "python",
      "pygments_lexer": "ipython3",
      "version": "3.8.3"
    },
    "colab": {
      "provenance": [],
      "include_colab_link": true
    }
  },
  "nbformat": 4,
  "nbformat_minor": 0
}